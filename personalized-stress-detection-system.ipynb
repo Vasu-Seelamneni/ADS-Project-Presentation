{
 "cells": [
  {
   "cell_type": "markdown",
   "metadata": {},
   "source": [
    "# Personalized Stress Detection System"
   ]
  },
  {
   "cell_type": "markdown",
   "metadata": {},
   "source": [
    "# Background\n",
    "\n",
    "### Motivation: Dell Global Fitness Challenge\n",
    "\n",
    "Stress is a common issue in modern society and can have significant impacts on health and well-being. Being able to predict an individual's stress level could help in early detection and intervention, potentially preventing health issues and improving quality of life. Therefore, this project aims to predict the personalized stress detection based on various features. The dataset is downloaded from [Kaggle]() and [Google Dataset Search](https://figshare.com/articles/dataset/Sleep_Health_and_Lifestyle_Data_Set_Part_2_/24803142/1)"
   ]
  },
  {
   "cell_type": "markdown",
   "metadata": {},
   "source": [
    "# Import libraries"
   ]
  },
  {
   "cell_type": "code",
   "execution_count": 514,
   "metadata": {},
   "outputs": [],
   "source": [
    "#for data preprocessing\n",
    "import pandas as pd\n",
    "\n",
    "#for matrix math\n",
    "import numpy as np\n",
    "\n",
    "#for data visualization\n",
    "import plotly.express as px\n",
    "import seaborn as sns\n",
    "import matplotlib.pyplot as plt\n",
    "\n",
    "#Standardise data value\n",
    "from sklearn.preprocessing import StandardScaler\n",
    "\n",
    "#for splitting data into training and testing sets\n",
    "from sklearn.model_selection import train_test_split \n",
    "\n",
    "#imbalance data\n",
    "from imblearn.over_sampling import SMOTE\n",
    "\n",
    "#Import the confusion_matrix function for evaluating classification results\n",
    "from sklearn.metrics import confusion_matrix   \n",
    "from sklearn.metrics import accuracy_score, recall_score, precision_score, f1_score\n",
    "\n",
    "#supervised algorithm\n",
    "from sklearn.linear_model import LogisticRegression    \n",
    "from sklearn.ensemble import RandomForestClassifier    \n",
    "from sklearn.tree import DecisionTreeClassifier        \n",
    "from sklearn.svm import SVC                         \n",
    "from sklearn.naive_bayes import GaussianNB            \n",
    "from sklearn.neighbors import KNeighborsClassifier  \n",
    "\n",
    "#remove warning message\n",
    "import warnings\n",
    "warnings.filterwarnings(\"ignore\")"
   ]
  },
  {
   "cell_type": "markdown",
   "metadata": {},
   "source": [
    "# Data Understanding\n",
    "## Describe Data ##\n",
    "The dataset has 13 columns, and with 559 entries in total. The data types for the dataset consists of object type, integer type, and float type in which 1 columns are float type, 7 column is integer type and 5 columns are object type.\n",
    "\n",
    "#### Data Dictionary #####\n",
    "\n",
    "Person ID: An identifier for each individual.<br>\n",
    "Gender: The gender of the person (Male/Female).<br>\n",
    "Age: The age of the person in years.<br>\n",
    "Occupation: The occupation or profession of the person.<br>\n",
    "Sleep Duration (hours): The number of hours the person sleeps per day.<br>\n",
    "Quality of Sleep (scale: 1-10): A subjective rating of the quality of sleep, ranging from 1 to 10.<br>\n",
    "Physical Activity Level (minutes/day): The number of minutes the person engages in physical activity daily.<br>\n",
    "Stress Level (scale: 1-10): A subjective rating of the stress level experienced by the person, ranging from 1 to 10.<br>\n",
    "BMI Category: The BMI category of the person (e.g., Underweight, Normal, Overweight).<br>\n",
    "Blood Pressure (systolic/diastolic): The blood pressure measurement of the person, indicated as systolic pressure over diastolic pressure.<br>\n",
    "Heart Rate (bpm): The resting heart rate of the person in beats per minute.<br>\n",
    "Daily Steps: The number of steps the person takes per day.<br>\n",
    "\n",
    "##### Float type #####\n",
    "\"Sleep Duration\"\n",
    "##### Integer type #####\n",
    "\"Person ID\", \"Age\", \"Quality of Sleep\", \"Physical Activiy Level\", \"Stress level\", \"Heart Rate\", \"Daily Steps\"\n",
    "##### Object type #####\n",
    "\"Gender\", \"Occupation\", \"BMI Category\", \"Blood Pressure\", \"Sleep Disorder\"\n",
    "\n",
    "##### Categorical values #####\n",
    "Nominal values: \"Gender\", \"Occupation\", \"Blood Pressure\", \"Sleep Disorder\" <br>\n",
    "Ordinal values: \"BMI Category\"\n",
    "\n",
    "##### Numerical values #####\n",
    "Interval values: \"Quality of Sleep\"<br>\n",
    "Ratio values: \"Sleep Duration\", \"Age\", \"Physical Activity Level\", \"Stress Level\", \"Heart Rate\", \"Daily Steps\"<br>\n",
    "\n",
    "#### Missing Values ####\n",
    "As in further investigation, the dataset contains 375 missing values in \"Sleep Disorder\" variable. \n",
    "\n",
    "#### X variables ####\n",
    "All columns are X variables except for \"Stress\".\n",
    "\n",
    "#### Y variable ####\n",
    "\"Stress\" which implies the level of health.\n"
   ]
  },
  {
   "cell_type": "code",
   "execution_count": 515,
   "metadata": {},
   "outputs": [
    {
     "data": {
      "text/html": [
       "<div>\n",
       "<style scoped>\n",
       "    .dataframe tbody tr th:only-of-type {\n",
       "        vertical-align: middle;\n",
       "    }\n",
       "\n",
       "    .dataframe tbody tr th {\n",
       "        vertical-align: top;\n",
       "    }\n",
       "\n",
       "    .dataframe thead th {\n",
       "        text-align: right;\n",
       "    }\n",
       "</style>\n",
       "<table border=\"1\" class=\"dataframe\">\n",
       "  <thead>\n",
       "    <tr style=\"text-align: right;\">\n",
       "      <th></th>\n",
       "      <th>Person ID</th>\n",
       "      <th>Gender</th>\n",
       "      <th>Age</th>\n",
       "      <th>Occupation</th>\n",
       "      <th>Sleep Duration</th>\n",
       "      <th>Quality of Sleep</th>\n",
       "      <th>Physical Activity Level</th>\n",
       "      <th>Stress Level</th>\n",
       "      <th>BMI Category</th>\n",
       "      <th>Blood Pressure</th>\n",
       "      <th>Heart Rate</th>\n",
       "      <th>Daily Steps</th>\n",
       "      <th>Sleep Disorder</th>\n",
       "    </tr>\n",
       "  </thead>\n",
       "  <tbody>\n",
       "    <tr>\n",
       "      <th>0</th>\n",
       "      <td>1</td>\n",
       "      <td>Male</td>\n",
       "      <td>27</td>\n",
       "      <td>Software Engineer</td>\n",
       "      <td>6.1</td>\n",
       "      <td>6</td>\n",
       "      <td>42</td>\n",
       "      <td>6</td>\n",
       "      <td>Overweight</td>\n",
       "      <td>126/83</td>\n",
       "      <td>77</td>\n",
       "      <td>4200</td>\n",
       "      <td>NaN</td>\n",
       "    </tr>\n",
       "    <tr>\n",
       "      <th>1</th>\n",
       "      <td>2</td>\n",
       "      <td>Male</td>\n",
       "      <td>28</td>\n",
       "      <td>Doctor</td>\n",
       "      <td>6.2</td>\n",
       "      <td>6</td>\n",
       "      <td>60</td>\n",
       "      <td>8</td>\n",
       "      <td>Normal</td>\n",
       "      <td>125/80</td>\n",
       "      <td>75</td>\n",
       "      <td>10000</td>\n",
       "      <td>NaN</td>\n",
       "    </tr>\n",
       "    <tr>\n",
       "      <th>2</th>\n",
       "      <td>3</td>\n",
       "      <td>Male</td>\n",
       "      <td>28</td>\n",
       "      <td>Doctor</td>\n",
       "      <td>6.2</td>\n",
       "      <td>6</td>\n",
       "      <td>60</td>\n",
       "      <td>8</td>\n",
       "      <td>Normal</td>\n",
       "      <td>125/80</td>\n",
       "      <td>75</td>\n",
       "      <td>10000</td>\n",
       "      <td>NaN</td>\n",
       "    </tr>\n",
       "    <tr>\n",
       "      <th>3</th>\n",
       "      <td>4</td>\n",
       "      <td>Male</td>\n",
       "      <td>28</td>\n",
       "      <td>Sales Representative</td>\n",
       "      <td>5.9</td>\n",
       "      <td>4</td>\n",
       "      <td>30</td>\n",
       "      <td>8</td>\n",
       "      <td>Obese</td>\n",
       "      <td>140/90</td>\n",
       "      <td>85</td>\n",
       "      <td>3000</td>\n",
       "      <td>Sleep Apnea</td>\n",
       "    </tr>\n",
       "    <tr>\n",
       "      <th>4</th>\n",
       "      <td>5</td>\n",
       "      <td>Male</td>\n",
       "      <td>28</td>\n",
       "      <td>Sales Representative</td>\n",
       "      <td>5.9</td>\n",
       "      <td>4</td>\n",
       "      <td>30</td>\n",
       "      <td>8</td>\n",
       "      <td>Obese</td>\n",
       "      <td>140/90</td>\n",
       "      <td>85</td>\n",
       "      <td>3000</td>\n",
       "      <td>Sleep Apnea</td>\n",
       "    </tr>\n",
       "  </tbody>\n",
       "</table>\n",
       "</div>"
      ],
      "text/plain": [
       "   Person ID Gender  Age            Occupation  Sleep Duration  \\\n",
       "0          1   Male   27     Software Engineer             6.1   \n",
       "1          2   Male   28                Doctor             6.2   \n",
       "2          3   Male   28                Doctor             6.2   \n",
       "3          4   Male   28  Sales Representative             5.9   \n",
       "4          5   Male   28  Sales Representative             5.9   \n",
       "\n",
       "   Quality of Sleep  Physical Activity Level  Stress Level BMI Category  \\\n",
       "0                 6                       42             6   Overweight   \n",
       "1                 6                       60             8       Normal   \n",
       "2                 6                       60             8       Normal   \n",
       "3                 4                       30             8        Obese   \n",
       "4                 4                       30             8        Obese   \n",
       "\n",
       "  Blood Pressure  Heart Rate  Daily Steps Sleep Disorder  \n",
       "0         126/83          77         4200            NaN  \n",
       "1         125/80          75        10000            NaN  \n",
       "2         125/80          75        10000            NaN  \n",
       "3         140/90          85         3000    Sleep Apnea  \n",
       "4         140/90          85         3000    Sleep Apnea  "
      ]
     },
     "execution_count": 515,
     "metadata": {},
     "output_type": "execute_result"
    }
   ],
   "source": [
    "#import dataset used\n",
    "stress_data = pd.read_csv(\"./personalized_stress_dataset.csv\")\n",
    "\n",
    "#display first 5 rows\n",
    "stress_data.head()"
   ]
  },
  {
   "cell_type": "code",
   "execution_count": 516,
   "metadata": {},
   "outputs": [
    {
     "name": "stdout",
     "output_type": "stream",
     "text": [
      "<class 'pandas.core.frame.DataFrame'>\n",
      "RangeIndex: 559 entries, 0 to 558\n",
      "Data columns (total 13 columns):\n",
      " #   Column                   Non-Null Count  Dtype  \n",
      "---  ------                   --------------  -----  \n",
      " 0   Person ID                559 non-null    int64  \n",
      " 1   Gender                   559 non-null    object \n",
      " 2   Age                      559 non-null    int64  \n",
      " 3   Occupation               559 non-null    object \n",
      " 4   Sleep Duration           559 non-null    float64\n",
      " 5   Quality of Sleep         559 non-null    int64  \n",
      " 6   Physical Activity Level  559 non-null    int64  \n",
      " 7   Stress Level             559 non-null    int64  \n",
      " 8   BMI Category             559 non-null    object \n",
      " 9   Blood Pressure           559 non-null    object \n",
      " 10  Heart Rate               559 non-null    int64  \n",
      " 11  Daily Steps              559 non-null    int64  \n",
      " 12  Sleep Disorder           184 non-null    object \n",
      "dtypes: float64(1), int64(7), object(5)\n",
      "memory usage: 56.9+ KB\n"
     ]
    }
   ],
   "source": [
    "#Display the data types, non-null counts, and memory usage.\n",
    "stress_data.info()"
   ]
  },
  {
   "cell_type": "code",
   "execution_count": 517,
   "metadata": {},
   "outputs": [
    {
     "data": {
      "text/html": [
       "<div>\n",
       "<style scoped>\n",
       "    .dataframe tbody tr th:only-of-type {\n",
       "        vertical-align: middle;\n",
       "    }\n",
       "\n",
       "    .dataframe tbody tr th {\n",
       "        vertical-align: top;\n",
       "    }\n",
       "\n",
       "    .dataframe thead th {\n",
       "        text-align: right;\n",
       "    }\n",
       "</style>\n",
       "<table border=\"1\" class=\"dataframe\">\n",
       "  <thead>\n",
       "    <tr style=\"text-align: right;\">\n",
       "      <th></th>\n",
       "      <th>Person ID</th>\n",
       "      <th>Age</th>\n",
       "      <th>Sleep Duration</th>\n",
       "      <th>Quality of Sleep</th>\n",
       "      <th>Physical Activity Level</th>\n",
       "      <th>Stress Level</th>\n",
       "      <th>Heart Rate</th>\n",
       "      <th>Daily Steps</th>\n",
       "    </tr>\n",
       "  </thead>\n",
       "  <tbody>\n",
       "    <tr>\n",
       "      <th>count</th>\n",
       "      <td>559.000000</td>\n",
       "      <td>559.000000</td>\n",
       "      <td>559.000000</td>\n",
       "      <td>559.000000</td>\n",
       "      <td>559.000000</td>\n",
       "      <td>559.000000</td>\n",
       "      <td>559.000000</td>\n",
       "      <td>559.000000</td>\n",
       "    </tr>\n",
       "    <tr>\n",
       "      <th>mean</th>\n",
       "      <td>280.000000</td>\n",
       "      <td>39.987478</td>\n",
       "      <td>7.114132</td>\n",
       "      <td>7.271914</td>\n",
       "      <td>58.758497</td>\n",
       "      <td>5.463327</td>\n",
       "      <td>70.182469</td>\n",
       "      <td>6820.751342</td>\n",
       "    </tr>\n",
       "    <tr>\n",
       "      <th>std</th>\n",
       "      <td>161.513673</td>\n",
       "      <td>8.099616</td>\n",
       "      <td>0.742149</td>\n",
       "      <td>1.133293</td>\n",
       "      <td>19.961450</td>\n",
       "      <td>1.674711</td>\n",
       "      <td>3.875617</td>\n",
       "      <td>1528.814803</td>\n",
       "    </tr>\n",
       "    <tr>\n",
       "      <th>min</th>\n",
       "      <td>1.000000</td>\n",
       "      <td>27.000000</td>\n",
       "      <td>5.800000</td>\n",
       "      <td>4.000000</td>\n",
       "      <td>30.000000</td>\n",
       "      <td>3.000000</td>\n",
       "      <td>65.000000</td>\n",
       "      <td>3000.000000</td>\n",
       "    </tr>\n",
       "    <tr>\n",
       "      <th>25%</th>\n",
       "      <td>140.500000</td>\n",
       "      <td>33.000000</td>\n",
       "      <td>6.500000</td>\n",
       "      <td>6.000000</td>\n",
       "      <td>45.000000</td>\n",
       "      <td>4.000000</td>\n",
       "      <td>68.000000</td>\n",
       "      <td>5500.000000</td>\n",
       "    </tr>\n",
       "    <tr>\n",
       "      <th>50%</th>\n",
       "      <td>280.000000</td>\n",
       "      <td>38.000000</td>\n",
       "      <td>7.200000</td>\n",
       "      <td>7.000000</td>\n",
       "      <td>60.000000</td>\n",
       "      <td>5.000000</td>\n",
       "      <td>70.000000</td>\n",
       "      <td>7000.000000</td>\n",
       "    </tr>\n",
       "    <tr>\n",
       "      <th>75%</th>\n",
       "      <td>419.500000</td>\n",
       "      <td>44.000000</td>\n",
       "      <td>7.700000</td>\n",
       "      <td>8.000000</td>\n",
       "      <td>75.000000</td>\n",
       "      <td>7.000000</td>\n",
       "      <td>72.000000</td>\n",
       "      <td>8000.000000</td>\n",
       "    </tr>\n",
       "    <tr>\n",
       "      <th>max</th>\n",
       "      <td>559.000000</td>\n",
       "      <td>59.000000</td>\n",
       "      <td>8.500000</td>\n",
       "      <td>9.000000</td>\n",
       "      <td>90.000000</td>\n",
       "      <td>8.000000</td>\n",
       "      <td>86.000000</td>\n",
       "      <td>10000.000000</td>\n",
       "    </tr>\n",
       "  </tbody>\n",
       "</table>\n",
       "</div>"
      ],
      "text/plain": [
       "        Person ID         Age  Sleep Duration  Quality of Sleep  \\\n",
       "count  559.000000  559.000000      559.000000        559.000000   \n",
       "mean   280.000000   39.987478        7.114132          7.271914   \n",
       "std    161.513673    8.099616        0.742149          1.133293   \n",
       "min      1.000000   27.000000        5.800000          4.000000   \n",
       "25%    140.500000   33.000000        6.500000          6.000000   \n",
       "50%    280.000000   38.000000        7.200000          7.000000   \n",
       "75%    419.500000   44.000000        7.700000          8.000000   \n",
       "max    559.000000   59.000000        8.500000          9.000000   \n",
       "\n",
       "       Physical Activity Level  Stress Level  Heart Rate   Daily Steps  \n",
       "count               559.000000    559.000000  559.000000    559.000000  \n",
       "mean                 58.758497      5.463327   70.182469   6820.751342  \n",
       "std                  19.961450      1.674711    3.875617   1528.814803  \n",
       "min                  30.000000      3.000000   65.000000   3000.000000  \n",
       "25%                  45.000000      4.000000   68.000000   5500.000000  \n",
       "50%                  60.000000      5.000000   70.000000   7000.000000  \n",
       "75%                  75.000000      7.000000   72.000000   8000.000000  \n",
       "max                  90.000000      8.000000   86.000000  10000.000000  "
      ]
     },
     "execution_count": 517,
     "metadata": {},
     "output_type": "execute_result"
    }
   ],
   "source": [
    "#Statistical summary\n",
    "stress_data.describe()"
   ]
  },
  {
   "cell_type": "code",
   "execution_count": 518,
   "metadata": {},
   "outputs": [
    {
     "data": {
      "text/plain": [
       "(559, 13)"
      ]
     },
     "execution_count": 518,
     "metadata": {},
     "output_type": "execute_result"
    }
   ],
   "source": [
    "#number of rows and columns\n",
    "stress_data.shape"
   ]
  },
  {
   "cell_type": "code",
   "execution_count": 519,
   "metadata": {},
   "outputs": [
    {
     "data": {
      "text/plain": [
       "Person ID                  False\n",
       "Gender                     False\n",
       "Age                        False\n",
       "Occupation                 False\n",
       "Sleep Duration             False\n",
       "Quality of Sleep           False\n",
       "Physical Activity Level    False\n",
       "Stress Level               False\n",
       "BMI Category               False\n",
       "Blood Pressure             False\n",
       "Heart Rate                 False\n",
       "Daily Steps                False\n",
       "Sleep Disorder              True\n",
       "dtype: bool"
      ]
     },
     "execution_count": 519,
     "metadata": {},
     "output_type": "execute_result"
    }
   ],
   "source": [
    "#detect missing value in data frame\n",
    "stress_data.isnull().any()"
   ]
  },
  {
   "cell_type": "code",
   "execution_count": 520,
   "metadata": {},
   "outputs": [
    {
     "data": {
      "text/plain": [
       "Person ID                    0\n",
       "Gender                       0\n",
       "Age                          0\n",
       "Occupation                   0\n",
       "Sleep Duration               0\n",
       "Quality of Sleep             0\n",
       "Physical Activity Level      0\n",
       "Stress Level                 0\n",
       "BMI Category                 0\n",
       "Blood Pressure               0\n",
       "Heart Rate                   0\n",
       "Daily Steps                  0\n",
       "Sleep Disorder             375\n",
       "dtype: int64"
      ]
     },
     "execution_count": 520,
     "metadata": {},
     "output_type": "execute_result"
    }
   ],
   "source": [
    "#Missing values per column\n",
    "stress_data.isnull().sum()"
   ]
  },
  {
   "cell_type": "markdown",
   "metadata": {},
   "source": [
    "# Data Preparation #\n",
    "## Select Data ##\n",
    "All the data columns are selected in predicting the outcome of the stress level. The missing values and outliers that exist in the dataset are handled in a proper and formal way to maximize the accuracy, precision and recall of the results.\n",
    "\n",
    "#### Handle Missing Values ####\n",
    "As we can observe that there are 375 null values for Sleep Disorder column in the dataset. The presence of \"Nan\" value indicates that the individual does not have sleep disorder.\n",
    "Therefore, we will replace it with the term \"Nothing\".\n",
    "\n",
    "Also, we can observe that in the \"BMI Category\" column, the term \"Normal\" and \"Normal Weight\" have same meaning. Hence, we replace the value with \"Normal\" for consistency.\n",
    "\n",
    "#### Handle Data Transformation #####\n",
    "<table style='border:1px solid black'>\n",
    "  <tr style='font-size: 14px;'>\n",
    "      <th style='text-align: center;border: 1px solid black;'>Numerical Data</th>\n",
    "      <th style='text-align: center;border: 1px solid black;'>Categorical Data</th> \n",
    "  </tr>\n",
    "  <tr style='font-size: 14px;'>\n",
    "      <td style='text-align: left;border: 1px solid black;'>The numerical data that present in the dataset are transformed by standardizing the values using StandardScaler in the sklearn.preprocessing library after the missing values have been handled. Stadardizing is required as the column values of the categorical data is within the range 0-4 while the column values of numerical data can be range to thousands.</td>\n",
    "      <td style='text-align: left;border: 1px solid black;'>The categorical data that present in the dataset are transformed to numerical representations (string to numeric) before handling the missing values by using the categorical function in the pandas library. It is required to transform the data because most of the machine learning algorithms can only process numerical values. </td> \n",
    "  </tr>\n",
    "</table>\n",
    "\n",
    "#### Merge Categorical Data and Numerical Data ####\n",
    "After the data preprocessing have been done, the processed and cleaned data are merge by using the concatenate function in the pandas library.\n",
    "\n",
    "#### Using SMOTE #####\n",
    "In the dataset, since the labels for the dataset are not equally-numbered, the SMOTE function is used to balance the number of occurrence of a label. \"Not minority\" is used as to resample all the labels except for the minority label that exists in the dataset."
   ]
  },
  {
   "cell_type": "code",
   "execution_count": 521,
   "metadata": {},
   "outputs": [
    {
     "data": {
      "text/html": [
       "<div>\n",
       "<style scoped>\n",
       "    .dataframe tbody tr th:only-of-type {\n",
       "        vertical-align: middle;\n",
       "    }\n",
       "\n",
       "    .dataframe tbody tr th {\n",
       "        vertical-align: top;\n",
       "    }\n",
       "\n",
       "    .dataframe thead th {\n",
       "        text-align: right;\n",
       "    }\n",
       "</style>\n",
       "<table border=\"1\" class=\"dataframe\">\n",
       "  <thead>\n",
       "    <tr style=\"text-align: right;\">\n",
       "      <th></th>\n",
       "      <th>Person ID</th>\n",
       "      <th>Gender</th>\n",
       "      <th>Age</th>\n",
       "      <th>Occupation</th>\n",
       "      <th>Sleep Duration</th>\n",
       "      <th>Quality of Sleep</th>\n",
       "      <th>Physical Activity Level</th>\n",
       "      <th>Stress Level</th>\n",
       "      <th>BMI Category</th>\n",
       "      <th>Blood Pressure</th>\n",
       "      <th>Heart Rate</th>\n",
       "      <th>Daily Steps</th>\n",
       "      <th>Sleep Disorder</th>\n",
       "    </tr>\n",
       "  </thead>\n",
       "  <tbody>\n",
       "    <tr>\n",
       "      <th>0</th>\n",
       "      <td>1</td>\n",
       "      <td>Male</td>\n",
       "      <td>27</td>\n",
       "      <td>Software Engineer</td>\n",
       "      <td>6.1</td>\n",
       "      <td>6</td>\n",
       "      <td>42</td>\n",
       "      <td>6</td>\n",
       "      <td>Overweight</td>\n",
       "      <td>126/83</td>\n",
       "      <td>77</td>\n",
       "      <td>4200</td>\n",
       "      <td>Nothing</td>\n",
       "    </tr>\n",
       "  </tbody>\n",
       "</table>\n",
       "</div>"
      ],
      "text/plain": [
       "   Person ID Gender  Age         Occupation  Sleep Duration  Quality of Sleep  \\\n",
       "0          1   Male   27  Software Engineer             6.1                 6   \n",
       "\n",
       "   Physical Activity Level  Stress Level BMI Category Blood Pressure  \\\n",
       "0                       42             6   Overweight         126/83   \n",
       "\n",
       "   Heart Rate  Daily Steps Sleep Disorder  \n",
       "0          77         4200        Nothing  "
      ]
     },
     "execution_count": 521,
     "metadata": {},
     "output_type": "execute_result"
    }
   ],
   "source": [
    "#fill missing values with \"Nothing\"\n",
    "stress_data = stress_data.fillna(\"Nothing\")\n",
    "stress_data.head(1)"
   ]
  },
  {
   "cell_type": "code",
   "execution_count": 522,
   "metadata": {},
   "outputs": [],
   "source": [
    "#replace the Normal Weight with Normal as it is more similar term with Normal\n",
    "stress_data[\"BMI Category\"] = stress_data[\"BMI Category\"].replace(\"Normal Weight\", \"Normal\")"
   ]
  },
  {
   "cell_type": "code",
   "execution_count": 523,
   "metadata": {},
   "outputs": [
    {
     "name": "stdout",
     "output_type": "stream",
     "text": [
      "Duplicate Rows:\n",
      "Empty DataFrame\n",
      "Columns: [Person ID, Gender, Age, Occupation, Sleep Duration, Quality of Sleep, Physical Activity Level, Stress Level, BMI Category, Blood Pressure, Heart Rate, Daily Steps, Sleep Disorder]\n",
      "Index: []\n"
     ]
    }
   ],
   "source": [
    "#check if there are any duplicate rows\n",
    "duplicate_rows = stress_data[stress_data.duplicated()]\n",
    "print(\"Duplicate Rows:\")\n",
    "print(duplicate_rows)\n",
    "\n",
    "#drop the duplicate rows if any\n"
   ]
  },
  {
   "cell_type": "code",
   "execution_count": 524,
   "metadata": {},
   "outputs": [
    {
     "data": {
      "text/plain": [
       "array(['Software Engineer', 'Doctor', 'Sales Representative', 'Teacher',\n",
       "       'Nurse', 'Engineer', 'Accountant', 'Scientist', 'Lawyer',\n",
       "       'Salesperson', 'Manager'], dtype=object)"
      ]
     },
     "execution_count": 524,
     "metadata": {},
     "output_type": "execute_result"
    }
   ],
   "source": [
    "#check the unique values of the column \"Occupation\"\n",
    "stress_data['Occupation'].unique()"
   ]
  },
  {
   "cell_type": "code",
   "execution_count": 525,
   "metadata": {},
   "outputs": [
    {
     "data": {
      "text/html": [
       "<div>\n",
       "<style scoped>\n",
       "    .dataframe tbody tr th:only-of-type {\n",
       "        vertical-align: middle;\n",
       "    }\n",
       "\n",
       "    .dataframe tbody tr th {\n",
       "        vertical-align: top;\n",
       "    }\n",
       "\n",
       "    .dataframe thead th {\n",
       "        text-align: right;\n",
       "    }\n",
       "</style>\n",
       "<table border=\"1\" class=\"dataframe\">\n",
       "  <thead>\n",
       "    <tr style=\"text-align: right;\">\n",
       "      <th></th>\n",
       "      <th>Person ID</th>\n",
       "      <th>Gender</th>\n",
       "      <th>Age</th>\n",
       "      <th>Occupation</th>\n",
       "      <th>Sleep Duration</th>\n",
       "      <th>Quality of Sleep</th>\n",
       "      <th>Physical Activity Level</th>\n",
       "      <th>Stress Level</th>\n",
       "      <th>BMI Category</th>\n",
       "      <th>Heart Rate</th>\n",
       "      <th>Daily Steps</th>\n",
       "      <th>Sleep Disorder</th>\n",
       "      <th>Systolic BP</th>\n",
       "      <th>Diastolic BP</th>\n",
       "    </tr>\n",
       "  </thead>\n",
       "  <tbody>\n",
       "    <tr>\n",
       "      <th>0</th>\n",
       "      <td>1</td>\n",
       "      <td>Male</td>\n",
       "      <td>27</td>\n",
       "      <td>Software Engineer</td>\n",
       "      <td>6.1</td>\n",
       "      <td>6</td>\n",
       "      <td>42</td>\n",
       "      <td>6</td>\n",
       "      <td>Overweight</td>\n",
       "      <td>77</td>\n",
       "      <td>4200</td>\n",
       "      <td>Nothing</td>\n",
       "      <td>126</td>\n",
       "      <td>83</td>\n",
       "    </tr>\n",
       "  </tbody>\n",
       "</table>\n",
       "</div>"
      ],
      "text/plain": [
       "   Person ID Gender  Age         Occupation  Sleep Duration  Quality of Sleep  \\\n",
       "0          1   Male   27  Software Engineer             6.1                 6   \n",
       "\n",
       "   Physical Activity Level  Stress Level BMI Category  Heart Rate  \\\n",
       "0                       42             6   Overweight          77   \n",
       "\n",
       "   Daily Steps Sleep Disorder  Systolic BP  Diastolic BP  \n",
       "0         4200        Nothing          126            83  "
      ]
     },
     "execution_count": 525,
     "metadata": {},
     "output_type": "execute_result"
    }
   ],
   "source": [
    "#split the 'Blood Pressure' column into two new columns 'Systolic BP' and 'Diastolic BP'\n",
    "stress_data[['Systolic BP', 'Diastolic BP']] = stress_data['Blood Pressure'].str.split('/', expand=True)\n",
    "    \n",
    "# Convert the new columns to numeric type\n",
    "stress_data[['Systolic BP', 'Diastolic BP']] = stress_data[['Systolic BP', 'Diastolic BP']].apply(pd.to_numeric)\n",
    "    \n",
    "# Drop the original 'Blood Pressure' column\n",
    "stress_data = stress_data.drop('Blood Pressure', axis=1)\n",
    "\n",
    "stress_data.head(1)"
   ]
  },
  {
   "cell_type": "code",
   "execution_count": 526,
   "metadata": {},
   "outputs": [
    {
     "data": {
      "text/html": [
       "<div>\n",
       "<style scoped>\n",
       "    .dataframe tbody tr th:only-of-type {\n",
       "        vertical-align: middle;\n",
       "    }\n",
       "\n",
       "    .dataframe tbody tr th {\n",
       "        vertical-align: top;\n",
       "    }\n",
       "\n",
       "    .dataframe thead th {\n",
       "        text-align: right;\n",
       "    }\n",
       "</style>\n",
       "<table border=\"1\" class=\"dataframe\">\n",
       "  <thead>\n",
       "    <tr style=\"text-align: right;\">\n",
       "      <th></th>\n",
       "      <th>Person_ID</th>\n",
       "      <th>Gender</th>\n",
       "      <th>Age</th>\n",
       "      <th>Occupation</th>\n",
       "      <th>Sleep_Duration</th>\n",
       "      <th>Quality_of_Sleep</th>\n",
       "      <th>Physical_Activity_Level</th>\n",
       "      <th>Stress_Level</th>\n",
       "      <th>BMI_Category</th>\n",
       "      <th>Heart_Rate</th>\n",
       "      <th>Daily_Steps</th>\n",
       "      <th>Sleep_Disorder</th>\n",
       "      <th>Systolic_BP</th>\n",
       "      <th>Diastolic_BP</th>\n",
       "    </tr>\n",
       "  </thead>\n",
       "  <tbody>\n",
       "    <tr>\n",
       "      <th>0</th>\n",
       "      <td>1</td>\n",
       "      <td>Male</td>\n",
       "      <td>27</td>\n",
       "      <td>Software Engineer</td>\n",
       "      <td>6.1</td>\n",
       "      <td>6</td>\n",
       "      <td>42</td>\n",
       "      <td>6</td>\n",
       "      <td>Overweight</td>\n",
       "      <td>77</td>\n",
       "      <td>4200</td>\n",
       "      <td>Nothing</td>\n",
       "      <td>126</td>\n",
       "      <td>83</td>\n",
       "    </tr>\n",
       "  </tbody>\n",
       "</table>\n",
       "</div>"
      ],
      "text/plain": [
       "   Person_ID Gender  Age         Occupation  Sleep_Duration  Quality_of_Sleep  \\\n",
       "0          1   Male   27  Software Engineer             6.1                 6   \n",
       "\n",
       "   Physical_Activity_Level  Stress_Level BMI_Category  Heart_Rate  \\\n",
       "0                       42             6   Overweight          77   \n",
       "\n",
       "   Daily_Steps Sleep_Disorder  Systolic_BP  Diastolic_BP  \n",
       "0         4200        Nothing          126            83  "
      ]
     },
     "execution_count": 526,
     "metadata": {},
     "output_type": "execute_result"
    }
   ],
   "source": [
    "#rename the columns to remove spaces in the column names and replace them with underscores for easier access\n",
    "stress_data.columns = stress_data.columns.str.replace(' ', '_')\n",
    "stress_data.head(1)"
   ]
  },
  {
   "cell_type": "code",
   "execution_count": 527,
   "metadata": {},
   "outputs": [
    {
     "data": {
      "text/html": [
       "<div>\n",
       "<style scoped>\n",
       "    .dataframe tbody tr th:only-of-type {\n",
       "        vertical-align: middle;\n",
       "    }\n",
       "\n",
       "    .dataframe tbody tr th {\n",
       "        vertical-align: top;\n",
       "    }\n",
       "\n",
       "    .dataframe thead th {\n",
       "        text-align: right;\n",
       "    }\n",
       "</style>\n",
       "<table border=\"1\" class=\"dataframe\">\n",
       "  <thead>\n",
       "    <tr style=\"text-align: right;\">\n",
       "      <th></th>\n",
       "      <th>Gender</th>\n",
       "      <th>Occupation</th>\n",
       "      <th>Sleep_Disorder</th>\n",
       "      <th>BMI_Category</th>\n",
       "    </tr>\n",
       "  </thead>\n",
       "  <tbody>\n",
       "    <tr>\n",
       "      <th>0</th>\n",
       "      <td>Male</td>\n",
       "      <td>Software Engineer</td>\n",
       "      <td>Nothing</td>\n",
       "      <td>Overweight</td>\n",
       "    </tr>\n",
       "    <tr>\n",
       "      <th>1</th>\n",
       "      <td>Male</td>\n",
       "      <td>Doctor</td>\n",
       "      <td>Nothing</td>\n",
       "      <td>Normal</td>\n",
       "    </tr>\n",
       "    <tr>\n",
       "      <th>2</th>\n",
       "      <td>Male</td>\n",
       "      <td>Doctor</td>\n",
       "      <td>Nothing</td>\n",
       "      <td>Normal</td>\n",
       "    </tr>\n",
       "    <tr>\n",
       "      <th>3</th>\n",
       "      <td>Male</td>\n",
       "      <td>Sales Representative</td>\n",
       "      <td>Sleep Apnea</td>\n",
       "      <td>Obese</td>\n",
       "    </tr>\n",
       "    <tr>\n",
       "      <th>4</th>\n",
       "      <td>Male</td>\n",
       "      <td>Sales Representative</td>\n",
       "      <td>Sleep Apnea</td>\n",
       "      <td>Obese</td>\n",
       "    </tr>\n",
       "  </tbody>\n",
       "</table>\n",
       "</div>"
      ],
      "text/plain": [
       "  Gender            Occupation Sleep_Disorder BMI_Category\n",
       "0   Male     Software Engineer        Nothing   Overweight\n",
       "1   Male                Doctor        Nothing       Normal\n",
       "2   Male                Doctor        Nothing       Normal\n",
       "3   Male  Sales Representative    Sleep Apnea        Obese\n",
       "4   Male  Sales Representative    Sleep Apnea        Obese"
      ]
     },
     "execution_count": 527,
     "metadata": {},
     "output_type": "execute_result"
    }
   ],
   "source": [
    "#categorical data (those that not in numericalData variable)\n",
    "categoricalData = stress_data[[\"Gender\", \"Occupation\", \"Sleep_Disorder\", \"BMI_Category\"]]\n",
    "\n",
    "#print\n",
    "categoricalData.head()"
   ]
  },
  {
   "cell_type": "code",
   "execution_count": 528,
   "metadata": {},
   "outputs": [],
   "source": [
    "#change the string into numeric \n",
    "GenderNum = pd.Categorical(categoricalData[\"Gender\"]).codes.astype('int64')\n",
    "OccupationNum = pd.Categorical(categoricalData[\"Occupation\"]).codes.astype('int64')\n",
    "SleepDisorderNum = pd.Categorical(categoricalData[\"Sleep_Disorder\"]).codes.astype('int64')\n",
    "BMICategoryNum = pd.Categorical(categoricalData[\"BMI_Category\"]).codes.astype('int64')\n",
    "\n",
    "#add the col into the table\n",
    "categoricalData[\"Gender\"] = GenderNum \n",
    "categoricalData[\"Occupation\"] = OccupationNum \n",
    "categoricalData[\"Sleep_Disorder\"] = SleepDisorderNum\n",
    "categoricalData[\"BMI_Category\"] = BMICategoryNum "
   ]
  },
  {
   "cell_type": "code",
   "execution_count": 529,
   "metadata": {},
   "outputs": [
    {
     "data": {
      "text/html": [
       "<div>\n",
       "<style scoped>\n",
       "    .dataframe tbody tr th:only-of-type {\n",
       "        vertical-align: middle;\n",
       "    }\n",
       "\n",
       "    .dataframe tbody tr th {\n",
       "        vertical-align: top;\n",
       "    }\n",
       "\n",
       "    .dataframe thead th {\n",
       "        text-align: right;\n",
       "    }\n",
       "</style>\n",
       "<table border=\"1\" class=\"dataframe\">\n",
       "  <thead>\n",
       "    <tr style=\"text-align: right;\">\n",
       "      <th></th>\n",
       "      <th>Gender</th>\n",
       "      <th>Occupation</th>\n",
       "      <th>Sleep_Disorder</th>\n",
       "      <th>BMI_Category</th>\n",
       "    </tr>\n",
       "  </thead>\n",
       "  <tbody>\n",
       "    <tr>\n",
       "      <th>0</th>\n",
       "      <td>1</td>\n",
       "      <td>9</td>\n",
       "      <td>1</td>\n",
       "      <td>2</td>\n",
       "    </tr>\n",
       "    <tr>\n",
       "      <th>1</th>\n",
       "      <td>1</td>\n",
       "      <td>1</td>\n",
       "      <td>1</td>\n",
       "      <td>0</td>\n",
       "    </tr>\n",
       "    <tr>\n",
       "      <th>2</th>\n",
       "      <td>1</td>\n",
       "      <td>1</td>\n",
       "      <td>1</td>\n",
       "      <td>0</td>\n",
       "    </tr>\n",
       "    <tr>\n",
       "      <th>3</th>\n",
       "      <td>1</td>\n",
       "      <td>6</td>\n",
       "      <td>2</td>\n",
       "      <td>1</td>\n",
       "    </tr>\n",
       "    <tr>\n",
       "      <th>4</th>\n",
       "      <td>1</td>\n",
       "      <td>6</td>\n",
       "      <td>2</td>\n",
       "      <td>1</td>\n",
       "    </tr>\n",
       "  </tbody>\n",
       "</table>\n",
       "</div>"
      ],
      "text/plain": [
       "   Gender  Occupation  Sleep_Disorder  BMI_Category\n",
       "0       1           9               1             2\n",
       "1       1           1               1             0\n",
       "2       1           1               1             0\n",
       "3       1           6               2             1\n",
       "4       1           6               2             1"
      ]
     },
     "execution_count": 529,
     "metadata": {},
     "output_type": "execute_result"
    }
   ],
   "source": [
    "#print to see is there any columns with null\n",
    "categoricalData.head()"
   ]
  },
  {
   "cell_type": "code",
   "execution_count": 530,
   "metadata": {},
   "outputs": [
    {
     "data": {
      "text/html": [
       "<div>\n",
       "<style scoped>\n",
       "    .dataframe tbody tr th:only-of-type {\n",
       "        vertical-align: middle;\n",
       "    }\n",
       "\n",
       "    .dataframe tbody tr th {\n",
       "        vertical-align: top;\n",
       "    }\n",
       "\n",
       "    .dataframe thead th {\n",
       "        text-align: right;\n",
       "    }\n",
       "</style>\n",
       "<table border=\"1\" class=\"dataframe\">\n",
       "  <thead>\n",
       "    <tr style=\"text-align: right;\">\n",
       "      <th></th>\n",
       "      <th>Person_ID</th>\n",
       "      <th>Age</th>\n",
       "      <th>Physical_Activity_Level</th>\n",
       "      <th>Heart_Rate</th>\n",
       "      <th>Daily_Steps</th>\n",
       "      <th>Systolic_BP</th>\n",
       "      <th>Diastolic_BP</th>\n",
       "    </tr>\n",
       "  </thead>\n",
       "  <tbody>\n",
       "    <tr>\n",
       "      <th>0</th>\n",
       "      <td>1</td>\n",
       "      <td>27</td>\n",
       "      <td>42</td>\n",
       "      <td>77</td>\n",
       "      <td>4200</td>\n",
       "      <td>126</td>\n",
       "      <td>83</td>\n",
       "    </tr>\n",
       "    <tr>\n",
       "      <th>1</th>\n",
       "      <td>2</td>\n",
       "      <td>28</td>\n",
       "      <td>60</td>\n",
       "      <td>75</td>\n",
       "      <td>10000</td>\n",
       "      <td>125</td>\n",
       "      <td>80</td>\n",
       "    </tr>\n",
       "    <tr>\n",
       "      <th>2</th>\n",
       "      <td>3</td>\n",
       "      <td>28</td>\n",
       "      <td>60</td>\n",
       "      <td>75</td>\n",
       "      <td>10000</td>\n",
       "      <td>125</td>\n",
       "      <td>80</td>\n",
       "    </tr>\n",
       "    <tr>\n",
       "      <th>3</th>\n",
       "      <td>4</td>\n",
       "      <td>28</td>\n",
       "      <td>30</td>\n",
       "      <td>85</td>\n",
       "      <td>3000</td>\n",
       "      <td>140</td>\n",
       "      <td>90</td>\n",
       "    </tr>\n",
       "    <tr>\n",
       "      <th>4</th>\n",
       "      <td>5</td>\n",
       "      <td>28</td>\n",
       "      <td>30</td>\n",
       "      <td>85</td>\n",
       "      <td>3000</td>\n",
       "      <td>140</td>\n",
       "      <td>90</td>\n",
       "    </tr>\n",
       "  </tbody>\n",
       "</table>\n",
       "</div>"
      ],
      "text/plain": [
       "   Person_ID  Age  Physical_Activity_Level  Heart_Rate  Daily_Steps  \\\n",
       "0          1   27                       42          77         4200   \n",
       "1          2   28                       60          75        10000   \n",
       "2          3   28                       60          75        10000   \n",
       "3          4   28                       30          85         3000   \n",
       "4          5   28                       30          85         3000   \n",
       "\n",
       "   Systolic_BP  Diastolic_BP  \n",
       "0          126            83  \n",
       "1          125            80  \n",
       "2          125            80  \n",
       "3          140            90  \n",
       "4          140            90  "
      ]
     },
     "execution_count": 530,
     "metadata": {},
     "output_type": "execute_result"
    }
   ],
   "source": [
    "#numerical data\n",
    "numericalData = stress_data[[\"Person_ID\", \"Age\", \"Physical_Activity_Level\", \"Heart_Rate\", \"Daily_Steps\", \"Systolic_BP\", \"Diastolic_BP\"]]\n",
    "\n",
    "#print\n",
    "numericalData.head()"
   ]
  },
  {
   "cell_type": "markdown",
   "metadata": {},
   "source": [
    "#### Due to the inconsistencies that occurred between the training data and the raw data for prediction, we will standardize the numerical data using StandardScaler after data cleaning and preprocessing."
   ]
  },
  {
   "cell_type": "code",
   "execution_count": 531,
   "metadata": {},
   "outputs": [],
   "source": [
    "\n",
    "# #standardize the numerical data\n",
    "# scaler = StandardScaler()\n",
    "# numericalData.iloc[:,1:] =scaler.fit_transform(numericalData.iloc[:,1:])"
   ]
  },
  {
   "cell_type": "code",
   "execution_count": 532,
   "metadata": {},
   "outputs": [
    {
     "data": {
      "text/html": [
       "<div>\n",
       "<style scoped>\n",
       "    .dataframe tbody tr th:only-of-type {\n",
       "        vertical-align: middle;\n",
       "    }\n",
       "\n",
       "    .dataframe tbody tr th {\n",
       "        vertical-align: top;\n",
       "    }\n",
       "\n",
       "    .dataframe thead th {\n",
       "        text-align: right;\n",
       "    }\n",
       "</style>\n",
       "<table border=\"1\" class=\"dataframe\">\n",
       "  <thead>\n",
       "    <tr style=\"text-align: right;\">\n",
       "      <th></th>\n",
       "      <th>Gender</th>\n",
       "      <th>Occupation</th>\n",
       "      <th>Sleep_Disorder</th>\n",
       "      <th>BMI_Category</th>\n",
       "      <th>Age</th>\n",
       "      <th>Physical_Activity_Level</th>\n",
       "      <th>Heart_Rate</th>\n",
       "      <th>Daily_Steps</th>\n",
       "      <th>Systolic_BP</th>\n",
       "      <th>Diastolic_BP</th>\n",
       "      <th>Sleep_Duration</th>\n",
       "      <th>Quality_of_Sleep</th>\n",
       "      <th>Stress_Level</th>\n",
       "    </tr>\n",
       "  </thead>\n",
       "  <tbody>\n",
       "    <tr>\n",
       "      <th>0</th>\n",
       "      <td>1</td>\n",
       "      <td>9</td>\n",
       "      <td>1</td>\n",
       "      <td>2</td>\n",
       "      <td>27</td>\n",
       "      <td>42</td>\n",
       "      <td>77</td>\n",
       "      <td>4200</td>\n",
       "      <td>126</td>\n",
       "      <td>83</td>\n",
       "      <td>6.1</td>\n",
       "      <td>6</td>\n",
       "      <td>6</td>\n",
       "    </tr>\n",
       "    <tr>\n",
       "      <th>1</th>\n",
       "      <td>1</td>\n",
       "      <td>1</td>\n",
       "      <td>1</td>\n",
       "      <td>0</td>\n",
       "      <td>28</td>\n",
       "      <td>60</td>\n",
       "      <td>75</td>\n",
       "      <td>10000</td>\n",
       "      <td>125</td>\n",
       "      <td>80</td>\n",
       "      <td>6.2</td>\n",
       "      <td>6</td>\n",
       "      <td>8</td>\n",
       "    </tr>\n",
       "    <tr>\n",
       "      <th>2</th>\n",
       "      <td>1</td>\n",
       "      <td>1</td>\n",
       "      <td>1</td>\n",
       "      <td>0</td>\n",
       "      <td>28</td>\n",
       "      <td>60</td>\n",
       "      <td>75</td>\n",
       "      <td>10000</td>\n",
       "      <td>125</td>\n",
       "      <td>80</td>\n",
       "      <td>6.2</td>\n",
       "      <td>6</td>\n",
       "      <td>8</td>\n",
       "    </tr>\n",
       "    <tr>\n",
       "      <th>3</th>\n",
       "      <td>1</td>\n",
       "      <td>6</td>\n",
       "      <td>2</td>\n",
       "      <td>1</td>\n",
       "      <td>28</td>\n",
       "      <td>30</td>\n",
       "      <td>85</td>\n",
       "      <td>3000</td>\n",
       "      <td>140</td>\n",
       "      <td>90</td>\n",
       "      <td>5.9</td>\n",
       "      <td>4</td>\n",
       "      <td>8</td>\n",
       "    </tr>\n",
       "    <tr>\n",
       "      <th>4</th>\n",
       "      <td>1</td>\n",
       "      <td>6</td>\n",
       "      <td>2</td>\n",
       "      <td>1</td>\n",
       "      <td>28</td>\n",
       "      <td>30</td>\n",
       "      <td>85</td>\n",
       "      <td>3000</td>\n",
       "      <td>140</td>\n",
       "      <td>90</td>\n",
       "      <td>5.9</td>\n",
       "      <td>4</td>\n",
       "      <td>8</td>\n",
       "    </tr>\n",
       "  </tbody>\n",
       "</table>\n",
       "</div>"
      ],
      "text/plain": [
       "   Gender  Occupation  Sleep_Disorder  BMI_Category  Age  \\\n",
       "0       1           9               1             2   27   \n",
       "1       1           1               1             0   28   \n",
       "2       1           1               1             0   28   \n",
       "3       1           6               2             1   28   \n",
       "4       1           6               2             1   28   \n",
       "\n",
       "   Physical_Activity_Level  Heart_Rate  Daily_Steps  Systolic_BP  \\\n",
       "0                       42          77         4200          126   \n",
       "1                       60          75        10000          125   \n",
       "2                       60          75        10000          125   \n",
       "3                       30          85         3000          140   \n",
       "4                       30          85         3000          140   \n",
       "\n",
       "   Diastolic_BP  Sleep_Duration  Quality_of_Sleep  Stress_Level  \n",
       "0            83             6.1                 6             6  \n",
       "1            80             6.2                 6             8  \n",
       "2            80             6.2                 6             8  \n",
       "3            90             5.9                 4             8  \n",
       "4            90             5.9                 4             8  "
      ]
     },
     "execution_count": 532,
     "metadata": {},
     "output_type": "execute_result"
    }
   ],
   "source": [
    "#concatenate the categorical data and numerical data together as nwData\n",
    "nwData = pd.concat([categoricalData,numericalData.iloc[:,1:], stress_data[\"Sleep_Duration\"], stress_data[\"Quality_of_Sleep\"], stress_data[\"Stress_Level\"]],axis=1)\n",
    "nwData.head()"
   ]
  },
  {
   "cell_type": "code",
   "execution_count": 533,
   "metadata": {},
   "outputs": [
    {
     "data": {
      "text/html": [
       "<div>\n",
       "<style scoped>\n",
       "    .dataframe tbody tr th:only-of-type {\n",
       "        vertical-align: middle;\n",
       "    }\n",
       "\n",
       "    .dataframe tbody tr th {\n",
       "        vertical-align: top;\n",
       "    }\n",
       "\n",
       "    .dataframe thead th {\n",
       "        text-align: right;\n",
       "    }\n",
       "</style>\n",
       "<table border=\"1\" class=\"dataframe\">\n",
       "  <thead>\n",
       "    <tr style=\"text-align: right;\">\n",
       "      <th></th>\n",
       "      <th>Gender</th>\n",
       "      <th>Occupation</th>\n",
       "      <th>Sleep_Disorder</th>\n",
       "      <th>BMI_Category</th>\n",
       "      <th>Age</th>\n",
       "      <th>Physical_Activity_Level</th>\n",
       "      <th>Heart_Rate</th>\n",
       "      <th>Daily_Steps</th>\n",
       "      <th>Systolic_BP</th>\n",
       "      <th>Diastolic_BP</th>\n",
       "      <th>Sleep_Duration</th>\n",
       "      <th>Quality_of_Sleep</th>\n",
       "      <th>Stress_Level</th>\n",
       "    </tr>\n",
       "  </thead>\n",
       "  <tbody>\n",
       "    <tr>\n",
       "      <th>0</th>\n",
       "      <td>1</td>\n",
       "      <td>9</td>\n",
       "      <td>1</td>\n",
       "      <td>2</td>\n",
       "      <td>27</td>\n",
       "      <td>42</td>\n",
       "      <td>77</td>\n",
       "      <td>4200</td>\n",
       "      <td>126</td>\n",
       "      <td>83</td>\n",
       "      <td>6.1</td>\n",
       "      <td>6</td>\n",
       "      <td>1</td>\n",
       "    </tr>\n",
       "    <tr>\n",
       "      <th>1</th>\n",
       "      <td>1</td>\n",
       "      <td>1</td>\n",
       "      <td>1</td>\n",
       "      <td>0</td>\n",
       "      <td>28</td>\n",
       "      <td>60</td>\n",
       "      <td>75</td>\n",
       "      <td>10000</td>\n",
       "      <td>125</td>\n",
       "      <td>80</td>\n",
       "      <td>6.2</td>\n",
       "      <td>6</td>\n",
       "      <td>1</td>\n",
       "    </tr>\n",
       "    <tr>\n",
       "      <th>2</th>\n",
       "      <td>1</td>\n",
       "      <td>1</td>\n",
       "      <td>1</td>\n",
       "      <td>0</td>\n",
       "      <td>28</td>\n",
       "      <td>60</td>\n",
       "      <td>75</td>\n",
       "      <td>10000</td>\n",
       "      <td>125</td>\n",
       "      <td>80</td>\n",
       "      <td>6.2</td>\n",
       "      <td>6</td>\n",
       "      <td>1</td>\n",
       "    </tr>\n",
       "    <tr>\n",
       "      <th>3</th>\n",
       "      <td>1</td>\n",
       "      <td>6</td>\n",
       "      <td>2</td>\n",
       "      <td>1</td>\n",
       "      <td>28</td>\n",
       "      <td>30</td>\n",
       "      <td>85</td>\n",
       "      <td>3000</td>\n",
       "      <td>140</td>\n",
       "      <td>90</td>\n",
       "      <td>5.9</td>\n",
       "      <td>4</td>\n",
       "      <td>1</td>\n",
       "    </tr>\n",
       "    <tr>\n",
       "      <th>4</th>\n",
       "      <td>1</td>\n",
       "      <td>6</td>\n",
       "      <td>2</td>\n",
       "      <td>1</td>\n",
       "      <td>28</td>\n",
       "      <td>30</td>\n",
       "      <td>85</td>\n",
       "      <td>3000</td>\n",
       "      <td>140</td>\n",
       "      <td>90</td>\n",
       "      <td>5.9</td>\n",
       "      <td>4</td>\n",
       "      <td>1</td>\n",
       "    </tr>\n",
       "  </tbody>\n",
       "</table>\n",
       "</div>"
      ],
      "text/plain": [
       "   Gender  Occupation  Sleep_Disorder  BMI_Category  Age  \\\n",
       "0       1           9               1             2   27   \n",
       "1       1           1               1             0   28   \n",
       "2       1           1               1             0   28   \n",
       "3       1           6               2             1   28   \n",
       "4       1           6               2             1   28   \n",
       "\n",
       "   Physical_Activity_Level  Heart_Rate  Daily_Steps  Systolic_BP  \\\n",
       "0                       42          77         4200          126   \n",
       "1                       60          75        10000          125   \n",
       "2                       60          75        10000          125   \n",
       "3                       30          85         3000          140   \n",
       "4                       30          85         3000          140   \n",
       "\n",
       "   Diastolic_BP  Sleep_Duration  Quality_of_Sleep  Stress_Level  \n",
       "0            83             6.1                 6             1  \n",
       "1            80             6.2                 6             1  \n",
       "2            80             6.2                 6             1  \n",
       "3            90             5.9                 4             1  \n",
       "4            90             5.9                 4             1  "
      ]
     },
     "execution_count": 533,
     "metadata": {},
     "output_type": "execute_result"
    }
   ],
   "source": [
    "#change the target variable \"Stress_Level\" to 0 and 1 based on the stress level (0-4 = 0, 5-10 = 1)\n",
    "nwData['Stress_Level'] = nwData['Stress_Level'].apply(lambda x: 0 if x < 5 else 1)\n",
    "nwData.head()"
   ]
  },
  {
   "cell_type": "markdown",
   "metadata": {},
   "source": [
    "# Data Visualization"
   ]
  },
  {
   "cell_type": "code",
   "execution_count": 534,
   "metadata": {},
   "outputs": [
    {
     "data": {
      "image/png": "[encoded data removed]",
      "text/plain": [
       "<Figure size 640x480 with 1 Axes>"
      ]
     },
     "metadata": {},
     "output_type": "display_data"
    }
   ],
   "source": [
    "#Plot the distribution of the target variable\n",
    "ax = sns.countplot(x='Stress_Level', data=nwData)\n",
    "\n",
    "plt.xlabel('Label')\n",
    "plt.ylabel('Count')\n",
    "plt.title('Distribution of the target variable')\n",
    "\n",
    "# Adding the count values to each bar\n",
    "for p in ax.patches:\n",
    "    height = p.get_height()\n",
    "    ax.text(p.get_x()+p.get_width()/2.,\n",
    "            height + 3,\n",
    "            '{:1.0f}'.format(height),\n",
    "            ha=\"center\") \n",
    "\n",
    "plt.show()"
   ]
  },
  {
   "cell_type": "code",
   "execution_count": 535,
   "metadata": {},
   "outputs": [
    {
     "data": {
      "image/png": "[encoded data removed]",
      "text/plain": [
       "<Figure size 1000x800 with 16 Axes>"
      ]
     },
     "metadata": {},
     "output_type": "display_data"
    }
   ],
   "source": [
    "# Histograms for each numerical feature\n",
    "nwData.hist(figsize=(10, 8))\n",
    "plt.suptitle(\"Histograms of Numerical Features\", fontsize=16)\n",
    "plt.show()"
   ]
  },
  {
   "cell_type": "code",
   "execution_count": 536,
   "metadata": {},
   "outputs": [
    {
     "data": {
      "text/plain": [
       "<function matplotlib.pyplot.show(close=None, block=None)>"
      ]
     },
     "execution_count": 536,
     "metadata": {},
     "output_type": "execute_result"
    },
    {
     "data": {
      "image/png": "[encoded data removed]",
      "text/plain": [
       "<Figure size 1000x1000 with 2 Axes>"
      ]
     },
     "metadata": {},
     "output_type": "display_data"
    }
   ],
   "source": [
    "#Plot the heatmap to see the correlation between the features and the target variable\n",
    "plt.figure(figsize = (10, 10))\n",
    "sns.heatmap(nwData.corr(), cmap = 'coolwarm', annot = True)\n",
    "plt.show"
   ]
  },
  {
   "cell_type": "markdown",
   "metadata": {},
   "source": [
    "**Positively Correlated columns:**\n",
    "* \"Quality of Sleep\" and \"Sleep Duration\" \n",
    "* \"Occupation\" and \"BMI Category\"\n",
    "* \"Systolic BP\" and \"BMI Category\"\n",
    "* \"Diastolic BP\" and \"BMI Category\"\n",
    "\n",
    "**Negatively Correlated columns:**\n",
    "* \"Heart Rate\" and \"Quality of Sleep\"\n",
    "* \"Heart Rate\" and \"Sleep Duration\"\n",
    "\n",
    "**No correlation with Target column: Stress level:**\n",
    "* \"Sleep Disorder\"\n",
    "* \"Physical Activity Level\"."
   ]
  },
  {
   "cell_type": "code",
   "execution_count": 537,
   "metadata": {},
   "outputs": [
    {
     "data": {
      "text/plain": [
       "<function matplotlib.pyplot.show(close=None, block=None)>"
      ]
     },
     "execution_count": 537,
     "metadata": {},
     "output_type": "execute_result"
    },
    {
     "data": {
      "image/png": "[encoded data removed]",
      "text/plain": [
       "<Figure size 1000x1000 with 2 Axes>"
      ]
     },
     "metadata": {},
     "output_type": "display_data"
    }
   ],
   "source": [
    "#drop the columns that are not needed for the model training\n",
    "nwData.drop('Sleep_Disorder', axis=1, inplace=True)\n",
    "nwData.drop('Physical_Activity_Level', axis=1, inplace=True)\n",
    "nwData.drop('Sleep_Duration', axis=1, inplace=True)\n",
    "nwData.drop('Quality_of_Sleep', axis=1, inplace=True)\n",
    "\n",
    "#Plot the heatmap\n",
    "plt.figure(figsize = (10, 10))\n",
    "sns.heatmap(nwData.corr(), cmap = 'coolwarm', annot = True)\n",
    "plt.show"
   ]
  },
  {
   "cell_type": "code",
   "execution_count": 538,
   "metadata": {},
   "outputs": [
    {
     "data": {
      "text/html": [
       "<div>\n",
       "<style scoped>\n",
       "    .dataframe tbody tr th:only-of-type {\n",
       "        vertical-align: middle;\n",
       "    }\n",
       "\n",
       "    .dataframe tbody tr th {\n",
       "        vertical-align: top;\n",
       "    }\n",
       "\n",
       "    .dataframe thead th {\n",
       "        text-align: right;\n",
       "    }\n",
       "</style>\n",
       "<table border=\"1\" class=\"dataframe\">\n",
       "  <thead>\n",
       "    <tr style=\"text-align: right;\">\n",
       "      <th></th>\n",
       "      <th>Gender</th>\n",
       "      <th>Occupation</th>\n",
       "      <th>BMI_Category</th>\n",
       "      <th>Age</th>\n",
       "      <th>Heart_Rate</th>\n",
       "      <th>Daily_Steps</th>\n",
       "      <th>Systolic_BP</th>\n",
       "      <th>Diastolic_BP</th>\n",
       "      <th>Stress_Level</th>\n",
       "    </tr>\n",
       "  </thead>\n",
       "  <tbody>\n",
       "    <tr>\n",
       "      <th>0</th>\n",
       "      <td>1</td>\n",
       "      <td>9</td>\n",
       "      <td>2</td>\n",
       "      <td>27</td>\n",
       "      <td>77</td>\n",
       "      <td>4200</td>\n",
       "      <td>126</td>\n",
       "      <td>83</td>\n",
       "      <td>1</td>\n",
       "    </tr>\n",
       "    <tr>\n",
       "      <th>1</th>\n",
       "      <td>1</td>\n",
       "      <td>1</td>\n",
       "      <td>0</td>\n",
       "      <td>28</td>\n",
       "      <td>75</td>\n",
       "      <td>10000</td>\n",
       "      <td>125</td>\n",
       "      <td>80</td>\n",
       "      <td>1</td>\n",
       "    </tr>\n",
       "    <tr>\n",
       "      <th>2</th>\n",
       "      <td>1</td>\n",
       "      <td>1</td>\n",
       "      <td>0</td>\n",
       "      <td>28</td>\n",
       "      <td>75</td>\n",
       "      <td>10000</td>\n",
       "      <td>125</td>\n",
       "      <td>80</td>\n",
       "      <td>1</td>\n",
       "    </tr>\n",
       "    <tr>\n",
       "      <th>3</th>\n",
       "      <td>1</td>\n",
       "      <td>6</td>\n",
       "      <td>1</td>\n",
       "      <td>28</td>\n",
       "      <td>85</td>\n",
       "      <td>3000</td>\n",
       "      <td>140</td>\n",
       "      <td>90</td>\n",
       "      <td>1</td>\n",
       "    </tr>\n",
       "    <tr>\n",
       "      <th>4</th>\n",
       "      <td>1</td>\n",
       "      <td>6</td>\n",
       "      <td>1</td>\n",
       "      <td>28</td>\n",
       "      <td>85</td>\n",
       "      <td>3000</td>\n",
       "      <td>140</td>\n",
       "      <td>90</td>\n",
       "      <td>1</td>\n",
       "    </tr>\n",
       "  </tbody>\n",
       "</table>\n",
       "</div>"
      ],
      "text/plain": [
       "   Gender  Occupation  BMI_Category  Age  Heart_Rate  Daily_Steps  \\\n",
       "0       1           9             2   27          77         4200   \n",
       "1       1           1             0   28          75        10000   \n",
       "2       1           1             0   28          75        10000   \n",
       "3       1           6             1   28          85         3000   \n",
       "4       1           6             1   28          85         3000   \n",
       "\n",
       "   Systolic_BP  Diastolic_BP  Stress_Level  \n",
       "0          126            83             1  \n",
       "1          125            80             1  \n",
       "2          125            80             1  \n",
       "3          140            90             1  \n",
       "4          140            90             1  "
      ]
     },
     "execution_count": 538,
     "metadata": {},
     "output_type": "execute_result"
    }
   ],
   "source": [
    "nwData.head()"
   ]
  },
  {
   "cell_type": "code",
   "execution_count": 539,
   "metadata": {},
   "outputs": [],
   "source": [
    "#standardize the numerical data after feature selection\n",
    "scaler = StandardScaler()\n",
    "nwData.iloc[:,3:8] =scaler.fit_transform(nwData.iloc[:,3:8])"
   ]
  },
  {
   "cell_type": "code",
   "execution_count": 540,
   "metadata": {},
   "outputs": [
    {
     "data": {
      "text/html": [
       "<div>\n",
       "<style scoped>\n",
       "    .dataframe tbody tr th:only-of-type {\n",
       "        vertical-align: middle;\n",
       "    }\n",
       "\n",
       "    .dataframe tbody tr th {\n",
       "        vertical-align: top;\n",
       "    }\n",
       "\n",
       "    .dataframe thead th {\n",
       "        text-align: right;\n",
       "    }\n",
       "</style>\n",
       "<table border=\"1\" class=\"dataframe\">\n",
       "  <thead>\n",
       "    <tr style=\"text-align: right;\">\n",
       "      <th></th>\n",
       "      <th>Gender</th>\n",
       "      <th>Occupation</th>\n",
       "      <th>BMI_Category</th>\n",
       "      <th>Age</th>\n",
       "      <th>Heart_Rate</th>\n",
       "      <th>Daily_Steps</th>\n",
       "      <th>Systolic_BP</th>\n",
       "      <th>Diastolic_BP</th>\n",
       "      <th>Stress_Level</th>\n",
       "    </tr>\n",
       "  </thead>\n",
       "  <tbody>\n",
       "    <tr>\n",
       "      <th>0</th>\n",
       "      <td>1</td>\n",
       "      <td>9</td>\n",
       "      <td>2</td>\n",
       "      <td>-1.604904</td>\n",
       "      <td>1.760658</td>\n",
       "      <td>-1.715773</td>\n",
       "      <td>-0.128470</td>\n",
       "      <td>-0.079885</td>\n",
       "      <td>1</td>\n",
       "    </tr>\n",
       "    <tr>\n",
       "      <th>1</th>\n",
       "      <td>1</td>\n",
       "      <td>1</td>\n",
       "      <td>0</td>\n",
       "      <td>-1.481331</td>\n",
       "      <td>1.244149</td>\n",
       "      <td>2.081414</td>\n",
       "      <td>-0.261214</td>\n",
       "      <td>-0.601161</td>\n",
       "      <td>1</td>\n",
       "    </tr>\n",
       "    <tr>\n",
       "      <th>2</th>\n",
       "      <td>1</td>\n",
       "      <td>1</td>\n",
       "      <td>0</td>\n",
       "      <td>-1.481331</td>\n",
       "      <td>1.244149</td>\n",
       "      <td>2.081414</td>\n",
       "      <td>-0.261214</td>\n",
       "      <td>-0.601161</td>\n",
       "      <td>1</td>\n",
       "    </tr>\n",
       "    <tr>\n",
       "      <th>3</th>\n",
       "      <td>1</td>\n",
       "      <td>6</td>\n",
       "      <td>1</td>\n",
       "      <td>-1.481331</td>\n",
       "      <td>3.826694</td>\n",
       "      <td>-2.501397</td>\n",
       "      <td>1.729950</td>\n",
       "      <td>1.136424</td>\n",
       "      <td>1</td>\n",
       "    </tr>\n",
       "    <tr>\n",
       "      <th>4</th>\n",
       "      <td>1</td>\n",
       "      <td>6</td>\n",
       "      <td>1</td>\n",
       "      <td>-1.481331</td>\n",
       "      <td>3.826694</td>\n",
       "      <td>-2.501397</td>\n",
       "      <td>1.729950</td>\n",
       "      <td>1.136424</td>\n",
       "      <td>1</td>\n",
       "    </tr>\n",
       "  </tbody>\n",
       "</table>\n",
       "</div>"
      ],
      "text/plain": [
       "   Gender  Occupation  BMI_Category       Age  Heart_Rate  Daily_Steps  \\\n",
       "0       1           9             2 -1.604904    1.760658    -1.715773   \n",
       "1       1           1             0 -1.481331    1.244149     2.081414   \n",
       "2       1           1             0 -1.481331    1.244149     2.081414   \n",
       "3       1           6             1 -1.481331    3.826694    -2.501397   \n",
       "4       1           6             1 -1.481331    3.826694    -2.501397   \n",
       "\n",
       "   Systolic_BP  Diastolic_BP  Stress_Level  \n",
       "0    -0.128470     -0.079885             1  \n",
       "1    -0.261214     -0.601161             1  \n",
       "2    -0.261214     -0.601161             1  \n",
       "3     1.729950      1.136424             1  \n",
       "4     1.729950      1.136424             1  "
      ]
     },
     "execution_count": 540,
     "metadata": {},
     "output_type": "execute_result"
    }
   ],
   "source": [
    "nwData.head()"
   ]
  },
  {
   "cell_type": "markdown",
   "metadata": {},
   "source": [
    "### Alogrithms Selected ###\n",
    "There are total 6 supervised learning algorithms selected to model the dataset in order to find the best modelling technique to detect the stress level of an individual."
   ]
  },
  {
   "cell_type": "code",
   "execution_count": 541,
   "metadata": {},
   "outputs": [],
   "source": [
    "#drop the Stress_Level and Person_ID for x variable that is to be used as the feature selections\n",
    "#choose the Stress_Level as the y variable that acts as the label\n",
    "#split the x variable and y variable into test set (30%) and train set (70%)\n",
    "X = nwData.drop(['Stress_Level'],axis=1)\n",
    "y = nwData.loc[:,['Stress_Level']]\n",
    "X_train,X_test,y_train,y_test = train_test_split(X,y,test_size=0.30,random_state=42)"
   ]
  },
  {
   "cell_type": "code",
   "execution_count": 542,
   "metadata": {},
   "outputs": [
    {
     "name": "stdout",
     "output_type": "stream",
     "text": [
      "X_train shape: (391, 8)\n",
      "y_train shape: (391, 1)\n",
      "X_test shape: (168, 8)\n",
      "y_test shape: (168, 1)\n"
     ]
    }
   ],
   "source": [
    "# Display the shapes of the training and testing sets\n",
    "print(\"X_train shape:\", X_train.shape)\n",
    "print(\"y_train shape:\", y_train.shape)\n",
    "print(\"X_test shape:\", X_test.shape)\n",
    "print(\"y_test shape:\", y_test.shape)"
   ]
  },
  {
   "cell_type": "markdown",
   "metadata": {},
   "source": [
    "Before applying SMOTE, we have 248 instances with Stress_Level equal to 1 and 143 instances with Stress_Level equal to 0. This indicates that data was imbalanced, with more instances of Stress_Level 1 than 0."
   ]
  },
  {
   "cell_type": "code",
   "execution_count": 543,
   "metadata": {},
   "outputs": [
    {
     "name": "stdout",
     "output_type": "stream",
     "text": [
      "Before SMOTE:\n",
      "Stress_Level\n",
      "1               248\n",
      "0               143\n",
      "Name: count, dtype: int64\n"
     ]
    },
    {
     "data": {
      "image/png": "[encoded data removed]",
      "text/plain": [
       "<Figure size 640x480 with 1 Axes>"
      ]
     },
     "metadata": {},
     "output_type": "display_data"
    }
   ],
   "source": [
    "print('Before SMOTE:')\n",
    "print(y_train.value_counts())\n",
    "\n",
    "y_train['Stress_Level'].value_counts().plot(kind='pie', autopct='%1.1f%%', title='Class distribution before SMOTE')\n",
    "plt.show()"
   ]
  },
  {
   "cell_type": "code",
   "execution_count": 544,
   "metadata": {},
   "outputs": [],
   "source": [
    "#use SMOTE to balance the number of occurrence of \"0\" and \"1\" in y variable\n",
    "sm = SMOTE(random_state=42)\n",
    "X_train, y_train = sm.fit_resample(X_train, y_train)"
   ]
  },
  {
   "cell_type": "markdown",
   "metadata": {},
   "source": [
    "After applying SMOTE, we have 248 instances in each class, this is because SMOTE has created 105 synthetic instances of class (Stress_Level 0). SMOTE has oversampled the minority class (Stress_Level 0) to match the number of instances in the majority class (Stress_Level 1)."
   ]
  },
  {
   "cell_type": "code",
   "execution_count": 545,
   "metadata": {},
   "outputs": [
    {
     "name": "stdout",
     "output_type": "stream",
     "text": [
      "After SMOTE:\n",
      "Stress_Level\n",
      "0               248\n",
      "1               248\n",
      "Name: count, dtype: int64\n"
     ]
    },
    {
     "data": {
      "image/png": "[encoded data removed]",
      "text/plain": [
       "<Figure size 640x480 with 1 Axes>"
      ]
     },
     "metadata": {},
     "output_type": "display_data"
    }
   ],
   "source": [
    "print('After SMOTE:')\n",
    "print(y_train.value_counts())\n",
    "\n",
    "y_train.value_counts().plot(kind='pie', autopct='%1.1f%%', title='Class distribution after SMOTE')\n",
    "plt.show()"
   ]
  },
  {
   "cell_type": "code",
   "execution_count": 546,
   "metadata": {},
   "outputs": [
    {
     "data": {
      "text/plain": [
       "664"
      ]
     },
     "execution_count": 546,
     "metadata": {},
     "output_type": "execute_result"
    }
   ],
   "source": [
    "#confirm the data has been balanced\n",
    "len(X_test) + len(X_train)"
   ]
  },
  {
   "cell_type": "code",
   "execution_count": 547,
   "metadata": {},
   "outputs": [
    {
     "data": {
      "text/html": [
       "<div>\n",
       "<style scoped>\n",
       "    .dataframe tbody tr th:only-of-type {\n",
       "        vertical-align: middle;\n",
       "    }\n",
       "\n",
       "    .dataframe tbody tr th {\n",
       "        vertical-align: top;\n",
       "    }\n",
       "\n",
       "    .dataframe thead th {\n",
       "        text-align: right;\n",
       "    }\n",
       "</style>\n",
       "<table border=\"1\" class=\"dataframe\">\n",
       "  <thead>\n",
       "    <tr style=\"text-align: right;\">\n",
       "      <th></th>\n",
       "      <th>Gender</th>\n",
       "      <th>Occupation</th>\n",
       "      <th>BMI_Category</th>\n",
       "      <th>Age</th>\n",
       "      <th>Heart_Rate</th>\n",
       "      <th>Daily_Steps</th>\n",
       "      <th>Systolic_BP</th>\n",
       "      <th>Diastolic_BP</th>\n",
       "    </tr>\n",
       "  </thead>\n",
       "  <tbody>\n",
       "    <tr>\n",
       "      <th>0</th>\n",
       "      <td>1</td>\n",
       "      <td>1</td>\n",
       "      <td>0</td>\n",
       "      <td>-0.987038</td>\n",
       "      <td>-0.047123</td>\n",
       "      <td>0.772039</td>\n",
       "      <td>-0.924936</td>\n",
       "      <td>-0.601161</td>\n",
       "    </tr>\n",
       "    <tr>\n",
       "      <th>1</th>\n",
       "      <td>1</td>\n",
       "      <td>1</td>\n",
       "      <td>0</td>\n",
       "      <td>-0.863465</td>\n",
       "      <td>0.469386</td>\n",
       "      <td>-1.192023</td>\n",
       "      <td>-0.261214</td>\n",
       "      <td>-0.601161</td>\n",
       "    </tr>\n",
       "    <tr>\n",
       "      <th>2</th>\n",
       "      <td>0</td>\n",
       "      <td>5</td>\n",
       "      <td>2</td>\n",
       "      <td>1.237280</td>\n",
       "      <td>1.244149</td>\n",
       "      <td>2.081414</td>\n",
       "      <td>1.729950</td>\n",
       "      <td>2.005216</td>\n",
       "    </tr>\n",
       "    <tr>\n",
       "      <th>3</th>\n",
       "      <td>0</td>\n",
       "      <td>8</td>\n",
       "      <td>2</td>\n",
       "      <td>-0.739892</td>\n",
       "      <td>2.793676</td>\n",
       "      <td>-1.061085</td>\n",
       "      <td>0.535252</td>\n",
       "      <td>0.441390</td>\n",
       "    </tr>\n",
       "    <tr>\n",
       "      <th>4</th>\n",
       "      <td>0</td>\n",
       "      <td>5</td>\n",
       "      <td>2</td>\n",
       "      <td>2.102292</td>\n",
       "      <td>-0.563632</td>\n",
       "      <td>0.117352</td>\n",
       "      <td>1.729950</td>\n",
       "      <td>2.005216</td>\n",
       "    </tr>\n",
       "    <tr>\n",
       "      <th>...</th>\n",
       "      <td>...</td>\n",
       "      <td>...</td>\n",
       "      <td>...</td>\n",
       "      <td>...</td>\n",
       "      <td>...</td>\n",
       "      <td>...</td>\n",
       "      <td>...</td>\n",
       "      <td>...</td>\n",
       "    </tr>\n",
       "    <tr>\n",
       "      <th>491</th>\n",
       "      <td>0</td>\n",
       "      <td>0</td>\n",
       "      <td>0</td>\n",
       "      <td>-0.492745</td>\n",
       "      <td>-0.563632</td>\n",
       "      <td>0.117352</td>\n",
       "      <td>-1.588657</td>\n",
       "      <td>-1.469953</td>\n",
       "    </tr>\n",
       "    <tr>\n",
       "      <th>492</th>\n",
       "      <td>0</td>\n",
       "      <td>0</td>\n",
       "      <td>0</td>\n",
       "      <td>-0.245599</td>\n",
       "      <td>-0.563632</td>\n",
       "      <td>0.117352</td>\n",
       "      <td>-1.588657</td>\n",
       "      <td>-1.469953</td>\n",
       "    </tr>\n",
       "    <tr>\n",
       "      <th>493</th>\n",
       "      <td>1</td>\n",
       "      <td>2</td>\n",
       "      <td>0</td>\n",
       "      <td>-0.748088</td>\n",
       "      <td>-0.246876</td>\n",
       "      <td>0.518848</td>\n",
       "      <td>-0.924936</td>\n",
       "      <td>-0.601161</td>\n",
       "    </tr>\n",
       "    <tr>\n",
       "      <th>494</th>\n",
       "      <td>0</td>\n",
       "      <td>5</td>\n",
       "      <td>2</td>\n",
       "      <td>2.349439</td>\n",
       "      <td>-0.563632</td>\n",
       "      <td>0.117352</td>\n",
       "      <td>1.729950</td>\n",
       "      <td>2.005216</td>\n",
       "    </tr>\n",
       "    <tr>\n",
       "      <th>495</th>\n",
       "      <td>1</td>\n",
       "      <td>2</td>\n",
       "      <td>0</td>\n",
       "      <td>-0.369172</td>\n",
       "      <td>-0.563632</td>\n",
       "      <td>0.117352</td>\n",
       "      <td>-0.924936</td>\n",
       "      <td>-0.601161</td>\n",
       "    </tr>\n",
       "  </tbody>\n",
       "</table>\n",
       "<p>496 rows × 8 columns</p>\n",
       "</div>"
      ],
      "text/plain": [
       "     Gender  Occupation  BMI_Category       Age  Heart_Rate  Daily_Steps  \\\n",
       "0         1           1             0 -0.987038   -0.047123     0.772039   \n",
       "1         1           1             0 -0.863465    0.469386    -1.192023   \n",
       "2         0           5             2  1.237280    1.244149     2.081414   \n",
       "3         0           8             2 -0.739892    2.793676    -1.061085   \n",
       "4         0           5             2  2.102292   -0.563632     0.117352   \n",
       "..      ...         ...           ...       ...         ...          ...   \n",
       "491       0           0             0 -0.492745   -0.563632     0.117352   \n",
       "492       0           0             0 -0.245599   -0.563632     0.117352   \n",
       "493       1           2             0 -0.748088   -0.246876     0.518848   \n",
       "494       0           5             2  2.349439   -0.563632     0.117352   \n",
       "495       1           2             0 -0.369172   -0.563632     0.117352   \n",
       "\n",
       "     Systolic_BP  Diastolic_BP  \n",
       "0      -0.924936     -0.601161  \n",
       "1      -0.261214     -0.601161  \n",
       "2       1.729950      2.005216  \n",
       "3       0.535252      0.441390  \n",
       "4       1.729950      2.005216  \n",
       "..           ...           ...  \n",
       "491    -1.588657     -1.469953  \n",
       "492    -1.588657     -1.469953  \n",
       "493    -0.924936     -0.601161  \n",
       "494     1.729950      2.005216  \n",
       "495    -0.924936     -0.601161  \n",
       "\n",
       "[496 rows x 8 columns]"
      ]
     },
     "execution_count": 547,
     "metadata": {},
     "output_type": "execute_result"
    }
   ],
   "source": [
    "X_train"
   ]
  },
  {
   "cell_type": "markdown",
   "metadata": {},
   "source": [
    "#### 1) Random Forest Classifiers ####"
   ]
  },
  {
   "cell_type": "code",
   "execution_count": 548,
   "metadata": {},
   "outputs": [
    {
     "name": "stdout",
     "output_type": "stream",
     "text": [
      "[[ 47   0]\n",
      " [  1 120]]\n",
      "0.9940476190476191\n",
      "0.9917355371900827\n",
      "1.0\n",
      "0.995850622406639\n"
     ]
    }
   ],
   "source": [
    "#Random Forest algorithm\n",
    "randomforest = RandomForestClassifier()\n",
    "\n",
    "#train using the algorithm\n",
    "randomforest.fit(X_train,y_train)\n",
    "\n",
    "#use the trained set to do prediction on test set\n",
    "y_pred=randomforest.predict(X_test)\n",
    "\n",
    "#print the confucsion matrix, accuracy score, precision and recall \n",
    "cm=confusion_matrix(y_test,y_pred)\n",
    "print(cm)\n",
    "print(accuracy_score(y_test,y_pred))\n",
    "print(recall_score(y_test,y_pred))\n",
    "print(precision_score(y_test,y_pred))\n",
    "print(f1_score(y_test,y_pred))"
   ]
  },
  {
   "cell_type": "code",
   "execution_count": 549,
   "metadata": {},
   "outputs": [
    {
     "data": {
      "image/png": "[encoded data removed]",
      "text/plain": [
       "<Figure size 640x480 with 1 Axes>"
      ]
     },
     "metadata": {},
     "output_type": "display_data"
    }
   ],
   "source": [
    "#plot the confusion matrix\n",
    "plt.clf()\n",
    "plt.imshow(cm, interpolation='nearest', cmap=plt.cm.Wistia)\n",
    "classNames = ['Negative','Positive']\n",
    "plt.title('Random Forest')\n",
    "plt.ylabel('True label')\n",
    "plt.xlabel('Predicted label')\n",
    "tick_marks = np.arange(len(classNames))\n",
    "plt.xticks(tick_marks, classNames, rotation=45)\n",
    "plt.yticks(tick_marks, classNames)\n",
    "s = [['TN','FP'], ['FN', 'TP']]\n",
    "for i in range(2):\n",
    "    for j in range(2):\n",
    "        plt.text(j,i, str(s[i][j])+\" = \"+str(cm[i][j]))\n",
    "plt.show()"
   ]
  },
  {
   "cell_type": "markdown",
   "metadata": {},
   "source": [
    "#### 2) K-nearest Neighbors ####"
   ]
  },
  {
   "cell_type": "code",
   "execution_count": 550,
   "metadata": {},
   "outputs": [],
   "source": [
    "#K-Nearest Neighbour algorithm\n",
    "neigh = KNeighborsClassifier(n_neighbors=3)\n",
    "\n",
    "#train using the algorithm\n",
    "neigh.fit(X_train,y_train) \n",
    "\n",
    "#use the trained set to do prediction on test set\n",
    "y_pred=neigh.predict(X_test)"
   ]
  },
  {
   "cell_type": "code",
   "execution_count": 551,
   "metadata": {},
   "outputs": [
    {
     "name": "stdout",
     "output_type": "stream",
     "text": [
      "[[ 45   2]\n",
      " [  1 120]]\n",
      "0.9821428571428571\n",
      "0.9917355371900827\n",
      "0.9836065573770492\n",
      "0.9876543209876544\n"
     ]
    }
   ],
   "source": [
    "#print the confucsion matrix, accuracy score, precision and recall \n",
    "cm=confusion_matrix(y_test,y_pred)\n",
    "print(cm)\n",
    "print(accuracy_score(y_test,y_pred))\n",
    "print(recall_score(y_test,y_pred))\n",
    "print(precision_score(y_test,y_pred))\n",
    "print(f1_score(y_test,y_pred))"
   ]
  },
  {
   "cell_type": "code",
   "execution_count": 552,
   "metadata": {},
   "outputs": [
    {
     "data": {
      "image/png": "[encoded data removed]",
      "text/plain": [
       "<Figure size 640x480 with 1 Axes>"
      ]
     },
     "metadata": {},
     "output_type": "display_data"
    }
   ],
   "source": [
    "#plot the confusion matrix\n",
    "plt.clf()\n",
    "plt.imshow(cm, interpolation='nearest', cmap=plt.cm.Wistia)\n",
    "classNames = ['Negative','Positive']\n",
    "plt.title('K-nearest Neighbors')\n",
    "plt.ylabel('True label')\n",
    "plt.xlabel('Predicted label')\n",
    "tick_marks = np.arange(len(classNames))\n",
    "plt.xticks(tick_marks, classNames, rotation=45)\n",
    "plt.yticks(tick_marks, classNames)\n",
    "s = [['TN','FP'], ['FN', 'TP']]\n",
    "for i in range(2):\n",
    "    for j in range(2):\n",
    "        plt.text(j,i, str(s[i][j])+\" = \"+str(cm[i][j]))\n",
    "plt.show()"
   ]
  },
  {
   "cell_type": "markdown",
   "metadata": {},
   "source": [
    "#### 3) Logistics Regression ####"
   ]
  },
  {
   "cell_type": "code",
   "execution_count": 553,
   "metadata": {},
   "outputs": [],
   "source": [
    "#Logistic Regression algorithm\n",
    "lr = LogisticRegression()\n",
    "\n",
    "#train using the algorithm\n",
    "lr.fit(X_train, y_train)\n",
    "\n",
    "#use the trained set to do prediction on test set\n",
    "y_pred = lr.predict(X_test)"
   ]
  },
  {
   "cell_type": "code",
   "execution_count": 554,
   "metadata": {},
   "outputs": [
    {
     "name": "stdout",
     "output_type": "stream",
     "text": [
      "[[ 45   2]\n",
      " [  2 119]]\n",
      "0.9761904761904762\n",
      "0.9834710743801653\n",
      "0.9834710743801653\n",
      "0.9834710743801653\n"
     ]
    }
   ],
   "source": [
    "#print the confucsion matrix, accuracy score, precision and recall \n",
    "cm=confusion_matrix(y_test,y_pred)\n",
    "print(cm)\n",
    "print(accuracy_score(y_test,y_pred))\n",
    "print(recall_score(y_test,y_pred))\n",
    "print(precision_score(y_test,y_pred))\n",
    "print(f1_score(y_test,y_pred))"
   ]
  },
  {
   "cell_type": "code",
   "execution_count": 555,
   "metadata": {},
   "outputs": [
    {
     "data": {
      "image/png": "[encoded data removed]",
      "text/plain": [
       "<Figure size 640x480 with 1 Axes>"
      ]
     },
     "metadata": {},
     "output_type": "display_data"
    }
   ],
   "source": [
    "#plot the confusion matrix\n",
    "plt.clf()\n",
    "plt.imshow(cm, interpolation='nearest', cmap=plt.cm.Wistia)\n",
    "classNames = ['Negative','Positive']\n",
    "plt.title('Logistic Regression')\n",
    "plt.ylabel('True label')\n",
    "plt.xlabel('Predicted label')\n",
    "tick_marks = np.arange(len(classNames))\n",
    "plt.xticks(tick_marks, classNames, rotation=45)\n",
    "plt.yticks(tick_marks, classNames)\n",
    "s = [['TN','FP'], ['FN', 'TP']]\n",
    "for i in range(2):\n",
    "    for j in range(2):\n",
    "        plt.text(j,i, str(s[i][j])+\" = \"+str(cm[i][j]))\n",
    "plt.show()"
   ]
  },
  {
   "cell_type": "markdown",
   "metadata": {},
   "source": [
    "#### 4) Support Vector Classifier (SVC) ####"
   ]
  },
  {
   "cell_type": "code",
   "execution_count": 556,
   "metadata": {},
   "outputs": [],
   "source": [
    "#Support Vector Machine algorithm\n",
    "svc=SVC()\n",
    "\n",
    "#train using the algorithm\n",
    "svc.fit(X_train,y_train)\n",
    "\n",
    "#use the trained set to do prediction on test set\n",
    "y_pred=svc.predict(X_test)"
   ]
  },
  {
   "cell_type": "code",
   "execution_count": 557,
   "metadata": {},
   "outputs": [
    {
     "name": "stdout",
     "output_type": "stream",
     "text": [
      "[[ 45   2]\n",
      " [  1 120]]\n",
      "0.9821428571428571\n",
      "0.9917355371900827\n",
      "0.9836065573770492\n",
      "0.9876543209876544\n"
     ]
    }
   ],
   "source": [
    "#print the confucsion matrix, accuracy score, precision and recall \n",
    "cm=confusion_matrix(y_test,y_pred)\n",
    "print(cm)\n",
    "print(accuracy_score(y_test,y_pred))\n",
    "print(recall_score(y_test,y_pred))\n",
    "print(precision_score(y_test,y_pred))\n",
    "print(f1_score(y_test,y_pred))"
   ]
  },
  {
   "cell_type": "code",
   "execution_count": 558,
   "metadata": {},
   "outputs": [
    {
     "data": {
      "image/png": "[encoded data removed]",
      "text/plain": [
       "<Figure size 640x480 with 1 Axes>"
      ]
     },
     "metadata": {},
     "output_type": "display_data"
    }
   ],
   "source": [
    "#plot the confusion matrix\n",
    "plt.clf()\n",
    "plt.imshow(cm, interpolation='nearest', cmap=plt.cm.Wistia)\n",
    "classNames = ['Negative','Positive']\n",
    "plt.title('SVC')\n",
    "plt.ylabel('True label')\n",
    "plt.xlabel('Predicted label')\n",
    "tick_marks = np.arange(len(classNames))\n",
    "plt.xticks(tick_marks, classNames, rotation=45)\n",
    "plt.yticks(tick_marks, classNames)\n",
    "s = [['TN','FP'], ['FN', 'TP']]\n",
    "for i in range(2):\n",
    "    for j in range(2):\n",
    "        plt.text(j,i, str(s[i][j])+\" = \"+str(cm[i][j]))\n",
    "plt.show()"
   ]
  },
  {
   "cell_type": "markdown",
   "metadata": {},
   "source": [
    "#### 5) Gaussian Naive Bayes ####"
   ]
  },
  {
   "cell_type": "code",
   "execution_count": 559,
   "metadata": {},
   "outputs": [],
   "source": [
    "#Gaussian Naive Bayes algorithm\n",
    "nb = GaussianNB()\n",
    "\n",
    "#train using the algorithm\n",
    "nb.fit(X_train,y_train)\n",
    "\n",
    "#use the trained set to do prediction on test set\n",
    "y_pred=nb.predict(X_test)"
   ]
  },
  {
   "cell_type": "code",
   "execution_count": 560,
   "metadata": {},
   "outputs": [
    {
     "name": "stdout",
     "output_type": "stream",
     "text": [
      "[[ 38   9]\n",
      " [  2 119]]\n",
      "0.9345238095238095\n",
      "0.9834710743801653\n",
      "0.9296875\n",
      "0.9558232931726908\n"
     ]
    }
   ],
   "source": [
    "#print the confucsion matrix, accuracy score, precision and recall \n",
    "cm=confusion_matrix(y_test,y_pred)\n",
    "print(cm)\n",
    "print(accuracy_score(y_test,y_pred))\n",
    "print(recall_score(y_test,y_pred))\n",
    "print(precision_score(y_test,y_pred))\n",
    "print(f1_score(y_test,y_pred))"
   ]
  },
  {
   "cell_type": "code",
   "execution_count": 561,
   "metadata": {},
   "outputs": [
    {
     "data": {
      "image/png": "[encoded data removed]",
      "text/plain": [
       "<Figure size 640x480 with 1 Axes>"
      ]
     },
     "metadata": {},
     "output_type": "display_data"
    }
   ],
   "source": [
    "#plot the confusion matrix\n",
    "plt.clf()\n",
    "plt.imshow(cm, interpolation='nearest', cmap=plt.cm.Wistia)\n",
    "classNames = ['Negative','Positive']\n",
    "plt.title('Gaussian Naive Bayes')\n",
    "plt.ylabel('True label')\n",
    "plt.xlabel('Predicted label')\n",
    "tick_marks = np.arange(len(classNames))\n",
    "plt.xticks(tick_marks, classNames, rotation=45)\n",
    "plt.yticks(tick_marks, classNames)\n",
    "s = [['TN','FP'], ['FN', 'TP']]\n",
    "for i in range(2):\n",
    "    for j in range(2):\n",
    "        plt.text(j,i, str(s[i][j])+\" = \"+str(cm[i][j]))\n",
    "plt.show()"
   ]
  },
  {
   "cell_type": "markdown",
   "metadata": {},
   "source": [
    "#### 6) Decision Tree ####"
   ]
  },
  {
   "cell_type": "code",
   "execution_count": 562,
   "metadata": {},
   "outputs": [],
   "source": [
    "#Decision Tree algorithm\n",
    "dt = DecisionTreeClassifier()\n",
    "\n",
    "#train using the algorithm\n",
    "dt.fit(X_train,y_train)\n",
    "\n",
    "#use the trained set to do prediction on test set\n",
    "y_pred=dt.predict(X_test)"
   ]
  },
  {
   "cell_type": "code",
   "execution_count": 563,
   "metadata": {},
   "outputs": [
    {
     "name": "stdout",
     "output_type": "stream",
     "text": [
      "[[ 47   0]\n",
      " [  1 120]]\n",
      "0.9940476190476191\n",
      "0.9917355371900827\n",
      "1.0\n",
      "0.995850622406639\n"
     ]
    }
   ],
   "source": [
    "#print the confucsion matrix, accuracy score, precision and recall \n",
    "cm=confusion_matrix(y_test,y_pred)\n",
    "print(cm)\n",
    "print(accuracy_score(y_test,y_pred))\n",
    "print(recall_score(y_test,y_pred))\n",
    "print(precision_score(y_test,y_pred))\n",
    "print(f1_score(y_test,y_pred))"
   ]
  },
  {
   "cell_type": "code",
   "execution_count": 564,
   "metadata": {},
   "outputs": [
    {
     "data": {
      "image/png": "[encoded data removed]",
      "text/plain": [
       "<Figure size 640x480 with 1 Axes>"
      ]
     },
     "metadata": {},
     "output_type": "display_data"
    }
   ],
   "source": [
    "#plot the confusion matrix\n",
    "plt.clf()\n",
    "plt.imshow(cm, interpolation='nearest', cmap=plt.cm.Wistia)\n",
    "classNames = ['Negative','Positive']\n",
    "plt.title('Decision Tree')\n",
    "plt.ylabel('True label')\n",
    "plt.xlabel('Predicted label')\n",
    "tick_marks = np.arange(len(classNames))\n",
    "plt.xticks(tick_marks, classNames, rotation=45)\n",
    "plt.yticks(tick_marks, classNames)\n",
    "s = [['TN','FP'], ['FN', 'TP']]\n",
    "for i in range(2):\n",
    "    for j in range(2):\n",
    "        plt.text(j,i, str(s[i][j])+\" = \"+str(cm[i][j]))\n",
    "plt.show()"
   ]
  },
  {
   "cell_type": "markdown",
   "metadata": {},
   "source": [
    "# Evaluation #\n",
    "\n",
    "# Evaluation #\n",
    "\n",
    "### Importance of Evaluation Element ###\n",
    "In this case, it is important to get a low false positive value as it is used to determine the stress of an individual.\n",
    "\n",
    "### Accuracy ###\n",
    "Accuracy is the ratio of correctly predicted observation over the total observations. A high accuracy score cannot directly indicates that the algorithm with a high accuracy perform the best. Precision, recall and F1 score have to be investigated too.\n",
    "\n",
    "<table style='border:1px solid black'>\n",
    "  <tr style='font-size: 14px;'>\n",
    "      <th style='text-align: center;border: 1px solid black;'>Algorithms Used</th>\n",
    "      <th style='text-align: center;border: 1px solid black;'>Accuracy Score</th> \n",
    "  </tr>\n",
    "  <tr style='font-size: 14px;'>\n",
    "      <td style='text-align: left;border: 1px solid black;'>Logistic Regression</td>\n",
    "      <td style='text-align: left;border: 1px solid black;'>approximate 0.9761</td>\n",
    "  </tr>\n",
    "  <tr style='font-size: 14px;'>\n",
    "      <td style='text-align: left;border: 1px solid black;'>Support Vector Classifier (SVC)</td>\n",
    "      <td style='text-align: left;border: 1px solid black;'>approximate 0.9761</td>\n",
    "  </tr>\n",
    "  <tr style='font-size: 14px;'>\n",
    "      <td style='text-align: left;border: 1px solid black;'>Random Forest Classifier</td> \n",
    "      <td style='text-align: left;border: 1px solid black;'>approximate 0.9940</td> \n",
    "  </tr>\n",
    "  <tr style='font-size: 14px;'>\n",
    "      <td style='text-align: left;border: 1px solid black;'>K-nearest Neighbors</td> \n",
    "      <td style='text-align: left;border: 1px solid black;'>approximate 0.9821</td> \n",
    "  </tr>\n",
    "  <tr style='font-size: 14px;'>\n",
    "      <td style='text-align: left;border: 1px solid black;'>Gaussian Naive Bayes</td> \n",
    "      <td style='text-align: left;border: 1px solid black;'>approximate 0.9345</td> \n",
    "  </tr>\n",
    "  <tr style='font-size: 14px;'>\n",
    "      <td style='text-align: left;border: 1px solid black;'>Decision Tree Classifier</td> \n",
    "      <td style='text-align: left;border: 1px solid black;'>approximate 0.9940</td> \n",
    "  </tr>\n",
    "</table>\n",
    "\n",
    "### Precision ###\n",
    "Precision measures the ratio of correctly predicted positive observations to the total predicted positive observations. A higher value of precision indicates that the results are predicted accurately. It is important as a method to investigate the performance of an algorithm in predicting the labels.\n",
    "\n",
    "<table style='border:1px solid black'>\n",
    "  <tr style='font-size: 14px;'>\n",
    "      <th style='text-align: center;border: 1px solid black;'>Algorithms Used</th>\n",
    "      <th style='text-align: center;border: 1px solid black;'>Precision Score</th> \n",
    "  </tr>\n",
    "  <tr style='font-size: 14px;'>\n",
    "      <td style='text-align: left;border: 1px solid black;'>Logistic Regression</td>\n",
    "      <td style='text-align: left;border: 1px solid black;'>approximate 0.9756</td>\n",
    "  </tr>\n",
    "  <tr style='font-size: 14px;'>\n",
    "      <td style='text-align: left;border: 1px solid black;'>Support Vector Classifier (SVC)</td>\n",
    "      <td style='text-align: left;border: 1px solid black;'>approximate 0.9756</td>\n",
    "  </tr>\n",
    "  <tr style='font-size: 14px;'>\n",
    "      <td style='text-align: left;border: 1px solid black;'>Random Forest Classifier</td> \n",
    "      <td style='text-align: left;border: 1px solid black;'>approximate 1.0</td>\n",
    "  </tr>\n",
    "  <tr style='font-size: 14px;'>\n",
    "      <td style='text-align: left;border: 1px solid black;'>K-nearest Neighbors</td> \n",
    "      <td style='text-align: left;border: 1px solid black;'>approximate 0.9836</td> \n",
    "  </tr>\n",
    "  <tr style='font-size: 14px;'>\n",
    "      <td style='text-align: left;border: 1px solid black;'>Gaussian Naive Bayes</td> \n",
    "      <td style='text-align: left;border: 1px solid black;'>approximate 0.9296</td> \n",
    "  </tr>\n",
    "  <tr style='font-size: 14px;'>\n",
    "      <td style='text-align: left;border: 1px solid black;'>Decision Tree Classifier</td> \n",
    "      <td style='text-align: left;border: 1px solid black;'>approximate 1.0</td> \n",
    "  </tr>\n",
    "</table>\n",
    "\n",
    "\n",
    "### Recall ###\n",
    "Recall is the ratio of correctly predicted positive observations to the actual observations. It is useful in measuring the number of false positive values in the observation. \n",
    "\n",
    "<table style='border:1px solid black'>\n",
    "  <tr style='font-size: 14px;'>\n",
    "      <th style='text-align: center;border: 1px solid black;'>Algorithms Used</th>\n",
    "      <th style='text-align: center;border: 1px solid black;'>Recall Score</th> \n",
    "  </tr>\n",
    "  <tr style='font-size: 14px;'>\n",
    "      <td style='text-align: left;border: 1px solid black;'>Logistic Regression</td>\n",
    "      <td style='text-align: left;border: 1px solid black;'>approximate 0.9917</td>\n",
    "  </tr>\n",
    "  <tr style='font-size: 14px;'>\n",
    "      <td style='text-align: left;border: 1px solid black;'>Support Vector Classifier (SVC)</td>\n",
    "      <td style='text-align: left;border: 1px solid black;'>approximate 0.9917</td>\n",
    "  </tr>\n",
    "  <tr style='font-size: 14px;'>\n",
    "      <td style='text-align: left;border: 1px solid black;'>Random Forest Classifier</td> \n",
    "      <td style='text-align: left;border: 1px solid black;'>approximate 0.9917</td> \n",
    "  </tr>\n",
    "  </tr>\n",
    "  <tr style='font-size: 14px;'>\n",
    "      <td style='text-align: left;border: 1px solid black;'>K-nearest Neighbors</td> \n",
    "      <td style='text-align: left;border: 1px solid black;'>approximate 0.9917</td> \n",
    "  </tr>\n",
    "  <tr style='font-size: 14px;'>\n",
    "      <td style='text-align: left;border: 1px solid black;'>Gaussian Naive Bayes</td> \n",
    "      <td style='text-align: left;border: 1px solid black;'>approximate 0.9834</td> \n",
    "  </tr>\n",
    "  <tr style='font-size: 14px;'>\n",
    "      <td style='text-align: left;border: 1px solid black;'>Decision Tree Classifier</td> \n",
    "      <td style='text-align: left;border: 1px solid black;'>approximate 0.9917</td> \n",
    "  </tr>\n",
    "</table>\n",
    "\n",
    "\n",
    "### F1 Score ###\n",
    "F1 Score is the weighted average of precision and recall. Therefore, this score takes both false positives and false negatives into account. It is a preferred method than accuracy score. F1 Score might be a better measure to use if we need to seek a balance between precision and recall.\n",
    "\n",
    "<table style='border:1px solid black'>\n",
    "  <tr style='font-size: 14px;'>\n",
    "      <th style='text-align: center;border: 1px solid black;'>Algorithms Used</th>\n",
    "      <th style='text-align: center;border: 1px solid black;'>F1 Score</th> \n",
    "  </tr>\n",
    "  <tr style='font-size: 14px;'>\n",
    "      <td style='text-align: left;border: 1px solid black;'>Logistic Regression</td>\n",
    "      <td style='text-align: left;border: 1px solid black;'>approximate 0.9836</td>\n",
    "  </tr>\n",
    "  <tr style='font-size: 14px;'>\n",
    "      <td style='text-align: left;border: 1px solid black;'>Support Vector Classifier (SVC)</td>\n",
    "      <td style='text-align: left;border: 1px solid black;'>approximate 0.9836</td>\n",
    "  </tr>\n",
    "  <tr style='font-size: 14px;'>\n",
    "      <td style='text-align: left;border: 1px solid black;'>Random Forest Classifier</td> \n",
    "      <td style='text-align: left;border: 1px solid black;'>approximate 0.9958</td> \n",
    "  </tr>\n",
    "  </tr>\n",
    "  <tr style='font-size: 14px;'>\n",
    "      <td style='text-align: left;border: 1px solid black;'>K-nearest Neighbors</td> \n",
    "      <td style='text-align: left;border: 1px solid black;'>approximate 0.9876</td> \n",
    "  </tr>\n",
    "  <tr style='font-size: 14px;'>\n",
    "      <td style='text-align: left;border: 1px solid black;'>Gaussian Naive Bayes</td> \n",
    "      <td style='text-align: left;border: 1px solid black;'>approximate 0.9558</td> \n",
    "  </tr>\n",
    "  <tr style='font-size: 14px;'>\n",
    "      <td style='text-align: left;border: 1px solid black;'>Decision Tree Classifier</td> \n",
    "      <td style='text-align: left;border: 1px solid black;'>approximate 0.9958</td> \n",
    "  </tr>\n",
    "</table>"
   ]
  },
  {
   "cell_type": "code",
   "execution_count": 565,
   "metadata": {},
   "outputs": [
    {
     "data": {
      "application/vnd.plotly.v1+json": {
       "config": {
        "plotlyServerURL": "https://plot.ly"
       },
       "data": [
        {
         "alignmentgroup": "True",
         "hovertemplate": "Model=%{x}<br>Accuracy Score=%{text}<extra></extra>",
         "legendgroup": "Logistic Regression",
         "marker": {
          "color": "rgb(102, 197, 204)",
          "pattern": {
           "shape": ""
          }
         },
         "name": "Logistic Regression",
         "offsetgroup": "Logistic Regression",
         "orientation": "v",
         "showlegend": true,
         "text": [
          97
         ],
         "textposition": "outside",
         "texttemplate": "%{text:.2f}%",
         "type": "bar",
         "x": [
          "Logistic Regression"
         ],
         "xaxis": "x",
         "y": [
          97
         ],
         "yaxis": "y"
        },
        {
         "alignmentgroup": "True",
         "hovertemplate": "Model=%{x}<br>Accuracy Score=%{text}<extra></extra>",
         "legendgroup": "Naive Bayes",
         "marker": {
          "color": "rgb(246, 207, 113)",
          "pattern": {
           "shape": ""
          }
         },
         "name": "Naive Bayes",
         "offsetgroup": "Naive Bayes",
         "orientation": "v",
         "showlegend": true,
         "text": [
          93
         ],
         "textposition": "outside",
         "texttemplate": "%{text:.2f}%",
         "type": "bar",
         "x": [
          "Naive Bayes"
         ],
         "xaxis": "x",
         "y": [
          93
         ],
         "yaxis": "y"
        },
        {
         "alignmentgroup": "True",
         "hovertemplate": "Model=%{x}<br>Accuracy Score=%{text}<extra></extra>",
         "legendgroup": "SCM",
         "marker": {
          "color": "rgb(248, 156, 116)",
          "pattern": {
           "shape": ""
          }
         },
         "name": "SCM",
         "offsetgroup": "SCM",
         "orientation": "v",
         "showlegend": true,
         "text": [
          98
         ],
         "textposition": "outside",
         "texttemplate": "%{text:.2f}%",
         "type": "bar",
         "x": [
          "SCM"
         ],
         "xaxis": "x",
         "y": [
          98
         ],
         "yaxis": "y"
        },
        {
         "alignmentgroup": "True",
         "hovertemplate": "Model=%{x}<br>Accuracy Score=%{text}<extra></extra>",
         "legendgroup": "KNN",
         "marker": {
          "color": "rgb(220, 176, 242)",
          "pattern": {
           "shape": ""
          }
         },
         "name": "KNN",
         "offsetgroup": "KNN",
         "orientation": "v",
         "showlegend": true,
         "text": [
          98
         ],
         "textposition": "outside",
         "texttemplate": "%{text:.2f}%",
         "type": "bar",
         "x": [
          "KNN"
         ],
         "xaxis": "x",
         "y": [
          98
         ],
         "yaxis": "y"
        },
        {
         "alignmentgroup": "True",
         "hovertemplate": "Model=%{x}<br>Accuracy Score=%{text}<extra></extra>",
         "legendgroup": "Random Forest",
         "marker": {
          "color": "rgb(135, 197, 95)",
          "pattern": {
           "shape": ""
          }
         },
         "name": "Random Forest",
         "offsetgroup": "Random Forest",
         "orientation": "v",
         "showlegend": true,
         "text": [
          99
         ],
         "textposition": "outside",
         "texttemplate": "%{text:.2f}%",
         "type": "bar",
         "x": [
          "Random Forest"
         ],
         "xaxis": "x",
         "y": [
          99
         ],
         "yaxis": "y"
        },
        {
         "alignmentgroup": "True",
         "hovertemplate": "Model=%{x}<br>Accuracy Score=%{text}<extra></extra>",
         "legendgroup": "Decision Tree",
         "marker": {
          "color": "rgb(158, 185, 243)",
          "pattern": {
           "shape": ""
          }
         },
         "name": "Decision Tree",
         "offsetgroup": "Decision Tree",
         "orientation": "v",
         "showlegend": true,
         "text": [
          97
         ],
         "textposition": "outside",
         "texttemplate": "%{text:.2f}%",
         "type": "bar",
         "x": [
          "Decision Tree"
         ],
         "xaxis": "x",
         "y": [
          97
         ],
         "yaxis": "y"
        }
       ],
       "layout": {
        "barmode": "relative",
        "height": 600,
        "legend": {
         "title": {
          "text": "Model"
         },
         "tracegroupgap": 0
        },
        "template": {
         "data": {
          "bar": [
           {
            "error_x": {
             "color": "#2a3f5f"
            },
            "error_y": {
             "color": "#2a3f5f"
            },
            "marker": {
             "line": {
              "color": "#E5ECF6",
              "width": 0.5
             },
             "pattern": {
              "fillmode": "overlay",
              "size": 10,
              "solidity": 0.2
             }
            },
            "type": "bar"
           }
          ],
          "barpolar": [
           {
            "marker": {
             "line": {
              "color": "#E5ECF6",
              "width": 0.5
             },
             "pattern": {
              "fillmode": "overlay",
              "size": 10,
              "solidity": 0.2
             }
            },
            "type": "barpolar"
           }
          ],
          "carpet": [
           {
            "aaxis": {
             "endlinecolor": "#2a3f5f",
             "gridcolor": "white",
             "linecolor": "white",
             "minorgridcolor": "white",
             "startlinecolor": "#2a3f5f"
            },
            "baxis": {
             "endlinecolor": "#2a3f5f",
             "gridcolor": "white",
             "linecolor": "white",
             "minorgridcolor": "white",
             "startlinecolor": "#2a3f5f"
            },
            "type": "carpet"
           }
          ],
          "choropleth": [
           {
            "colorbar": {
             "outlinewidth": 0,
             "ticks": ""
            },
            "type": "choropleth"
           }
          ],
          "contour": [
           {
            "colorbar": {
             "outlinewidth": 0,
             "ticks": ""
            },
            "colorscale": [
             [
              0,
              "#0d0887"
             ],
             [
              0.1111111111111111,
              "#46039f"
             ],
             [
              0.2222222222222222,
              "#7201a8"
             ],
             [
              0.3333333333333333,
              "#9c179e"
             ],
             [
              0.4444444444444444,
              "#bd3786"
             ],
             [
              0.5555555555555556,
              "#d8576b"
             ],
             [
              0.6666666666666666,
              "#ed7953"
             ],
             [
              0.7777777777777778,
              "#fb9f3a"
             ],
             [
              0.8888888888888888,
              "#fdca26"
             ],
             [
              1,
              "#f0f921"
             ]
            ],
            "type": "contour"
           }
          ],
          "contourcarpet": [
           {
            "colorbar": {
             "outlinewidth": 0,
             "ticks": ""
            },
            "type": "contourcarpet"
           }
          ],
          "heatmap": [
           {
            "colorbar": {
             "outlinewidth": 0,
             "ticks": ""
            },
            "colorscale": [
             [
              0,
              "#0d0887"
             ],
             [
              0.1111111111111111,
              "#46039f"
             ],
             [
              0.2222222222222222,
              "#7201a8"
             ],
             [
              0.3333333333333333,
              "#9c179e"
             ],
             [
              0.4444444444444444,
              "#bd3786"
             ],
             [
              0.5555555555555556,
              "#d8576b"
             ],
             [
              0.6666666666666666,
              "#ed7953"
             ],
             [
              0.7777777777777778,
              "#fb9f3a"
             ],
             [
              0.8888888888888888,
              "#fdca26"
             ],
             [
              1,
              "#f0f921"
             ]
            ],
            "type": "heatmap"
           }
          ],
          "heatmapgl": [
           {
            "colorbar": {
             "outlinewidth": 0,
             "ticks": ""
            },
            "colorscale": [
             [
              0,
              "#0d0887"
             ],
             [
              0.1111111111111111,
              "#46039f"
             ],
             [
              0.2222222222222222,
              "#7201a8"
             ],
             [
              0.3333333333333333,
              "#9c179e"
             ],
             [
              0.4444444444444444,
              "#bd3786"
             ],
             [
              0.5555555555555556,
              "#d8576b"
             ],
             [
              0.6666666666666666,
              "#ed7953"
             ],
             [
              0.7777777777777778,
              "#fb9f3a"
             ],
             [
              0.8888888888888888,
              "#fdca26"
             ],
             [
              1,
              "#f0f921"
             ]
            ],
            "type": "heatmapgl"
           }
          ],
          "histogram": [
           {
            "marker": {
             "pattern": {
              "fillmode": "overlay",
              "size": 10,
              "solidity": 0.2
             }
            },
            "type": "histogram"
           }
          ],
          "histogram2d": [
           {
            "colorbar": {
             "outlinewidth": 0,
             "ticks": ""
            },
            "colorscale": [
             [
              0,
              "#0d0887"
             ],
             [
              0.1111111111111111,
              "#46039f"
             ],
             [
              0.2222222222222222,
              "#7201a8"
             ],
             [
              0.3333333333333333,
              "#9c179e"
             ],
             [
              0.4444444444444444,
              "#bd3786"
             ],
             [
              0.5555555555555556,
              "#d8576b"
             ],
             [
              0.6666666666666666,
              "#ed7953"
             ],
             [
              0.7777777777777778,
              "#fb9f3a"
             ],
             [
              0.8888888888888888,
              "#fdca26"
             ],
             [
              1,
              "#f0f921"
             ]
            ],
            "type": "histogram2d"
           }
          ],
          "histogram2dcontour": [
           {
            "colorbar": {
             "outlinewidth": 0,
             "ticks": ""
            },
            "colorscale": [
             [
              0,
              "#0d0887"
             ],
             [
              0.1111111111111111,
              "#46039f"
             ],
             [
              0.2222222222222222,
              "#7201a8"
             ],
             [
              0.3333333333333333,
              "#9c179e"
             ],
             [
              0.4444444444444444,
              "#bd3786"
             ],
             [
              0.5555555555555556,
              "#d8576b"
             ],
             [
              0.6666666666666666,
              "#ed7953"
             ],
             [
              0.7777777777777778,
              "#fb9f3a"
             ],
             [
              0.8888888888888888,
              "#fdca26"
             ],
             [
              1,
              "#f0f921"
             ]
            ],
            "type": "histogram2dcontour"
           }
          ],
          "mesh3d": [
           {
            "colorbar": {
             "outlinewidth": 0,
             "ticks": ""
            },
            "type": "mesh3d"
           }
          ],
          "parcoords": [
           {
            "line": {
             "colorbar": {
              "outlinewidth": 0,
              "ticks": ""
             }
            },
            "type": "parcoords"
           }
          ],
          "pie": [
           {
            "automargin": true,
            "type": "pie"
           }
          ],
          "scatter": [
           {
            "fillpattern": {
             "fillmode": "overlay",
             "size": 10,
             "solidity": 0.2
            },
            "type": "scatter"
           }
          ],
          "scatter3d": [
           {
            "line": {
             "colorbar": {
              "outlinewidth": 0,
              "ticks": ""
             }
            },
            "marker": {
             "colorbar": {
              "outlinewidth": 0,
              "ticks": ""
             }
            },
            "type": "scatter3d"
           }
          ],
          "scattercarpet": [
           {
            "marker": {
             "colorbar": {
              "outlinewidth": 0,
              "ticks": ""
             }
            },
            "type": "scattercarpet"
           }
          ],
          "scattergeo": [
           {
            "marker": {
             "colorbar": {
              "outlinewidth": 0,
              "ticks": ""
             }
            },
            "type": "scattergeo"
           }
          ],
          "scattergl": [
           {
            "marker": {
             "colorbar": {
              "outlinewidth": 0,
              "ticks": ""
             }
            },
            "type": "scattergl"
           }
          ],
          "scattermapbox": [
           {
            "marker": {
             "colorbar": {
              "outlinewidth": 0,
              "ticks": ""
             }
            },
            "type": "scattermapbox"
           }
          ],
          "scatterpolar": [
           {
            "marker": {
             "colorbar": {
              "outlinewidth": 0,
              "ticks": ""
             }
            },
            "type": "scatterpolar"
           }
          ],
          "scatterpolargl": [
           {
            "marker": {
             "colorbar": {
              "outlinewidth": 0,
              "ticks": ""
             }
            },
            "type": "scatterpolargl"
           }
          ],
          "scatterternary": [
           {
            "marker": {
             "colorbar": {
              "outlinewidth": 0,
              "ticks": ""
             }
            },
            "type": "scatterternary"
           }
          ],
          "surface": [
           {
            "colorbar": {
             "outlinewidth": 0,
             "ticks": ""
            },
            "colorscale": [
             [
              0,
              "#0d0887"
             ],
             [
              0.1111111111111111,
              "#46039f"
             ],
             [
              0.2222222222222222,
              "#7201a8"
             ],
             [
              0.3333333333333333,
              "#9c179e"
             ],
             [
              0.4444444444444444,
              "#bd3786"
             ],
             [
              0.5555555555555556,
              "#d8576b"
             ],
             [
              0.6666666666666666,
              "#ed7953"
             ],
             [
              0.7777777777777778,
              "#fb9f3a"
             ],
             [
              0.8888888888888888,
              "#fdca26"
             ],
             [
              1,
              "#f0f921"
             ]
            ],
            "type": "surface"
           }
          ],
          "table": [
           {
            "cells": {
             "fill": {
              "color": "#EBF0F8"
             },
             "line": {
              "color": "white"
             }
            },
            "header": {
             "fill": {
              "color": "#C8D4E3"
             },
             "line": {
              "color": "white"
             }
            },
            "type": "table"
           }
          ]
         },
         "layout": {
          "annotationdefaults": {
           "arrowcolor": "#2a3f5f",
           "arrowhead": 0,
           "arrowwidth": 1
          },
          "autotypenumbers": "strict",
          "coloraxis": {
           "colorbar": {
            "outlinewidth": 0,
            "ticks": ""
           }
          },
          "colorscale": {
           "diverging": [
            [
             0,
             "#8e0152"
            ],
            [
             0.1,
             "#c51b7d"
            ],
            [
             0.2,
             "#de77ae"
            ],
            [
             0.3,
             "#f1b6da"
            ],
            [
             0.4,
             "#fde0ef"
            ],
            [
             0.5,
             "#f7f7f7"
            ],
            [
             0.6,
             "#e6f5d0"
            ],
            [
             0.7,
             "#b8e186"
            ],
            [
             0.8,
             "#7fbc41"
            ],
            [
             0.9,
             "#4d9221"
            ],
            [
             1,
             "#276419"
            ]
           ],
           "sequential": [
            [
             0,
             "#0d0887"
            ],
            [
             0.1111111111111111,
             "#46039f"
            ],
            [
             0.2222222222222222,
             "#7201a8"
            ],
            [
             0.3333333333333333,
             "#9c179e"
            ],
            [
             0.4444444444444444,
             "#bd3786"
            ],
            [
             0.5555555555555556,
             "#d8576b"
            ],
            [
             0.6666666666666666,
             "#ed7953"
            ],
            [
             0.7777777777777778,
             "#fb9f3a"
            ],
            [
             0.8888888888888888,
             "#fdca26"
            ],
            [
             1,
             "#f0f921"
            ]
           ],
           "sequentialminus": [
            [
             0,
             "#0d0887"
            ],
            [
             0.1111111111111111,
             "#46039f"
            ],
            [
             0.2222222222222222,
             "#7201a8"
            ],
            [
             0.3333333333333333,
             "#9c179e"
            ],
            [
             0.4444444444444444,
             "#bd3786"
            ],
            [
             0.5555555555555556,
             "#d8576b"
            ],
            [
             0.6666666666666666,
             "#ed7953"
            ],
            [
             0.7777777777777778,
             "#fb9f3a"
            ],
            [
             0.8888888888888888,
             "#fdca26"
            ],
            [
             1,
             "#f0f921"
            ]
           ]
          },
          "colorway": [
           "#636efa",
           "#EF553B",
           "#00cc96",
           "#ab63fa",
           "#FFA15A",
           "#19d3f3",
           "#FF6692",
           "#B6E880",
           "#FF97FF",
           "#FECB52"
          ],
          "font": {
           "color": "#2a3f5f"
          },
          "geo": {
           "bgcolor": "white",
           "lakecolor": "white",
           "landcolor": "#E5ECF6",
           "showlakes": true,
           "showland": true,
           "subunitcolor": "white"
          },
          "hoverlabel": {
           "align": "left"
          },
          "hovermode": "closest",
          "mapbox": {
           "style": "light"
          },
          "paper_bgcolor": "white",
          "plot_bgcolor": "#E5ECF6",
          "polar": {
           "angularaxis": {
            "gridcolor": "white",
            "linecolor": "white",
            "ticks": ""
           },
           "bgcolor": "#E5ECF6",
           "radialaxis": {
            "gridcolor": "white",
            "linecolor": "white",
            "ticks": ""
           }
          },
          "scene": {
           "xaxis": {
            "backgroundcolor": "#E5ECF6",
            "gridcolor": "white",
            "gridwidth": 2,
            "linecolor": "white",
            "showbackground": true,
            "ticks": "",
            "zerolinecolor": "white"
           },
           "yaxis": {
            "backgroundcolor": "#E5ECF6",
            "gridcolor": "white",
            "gridwidth": 2,
            "linecolor": "white",
            "showbackground": true,
            "ticks": "",
            "zerolinecolor": "white"
           },
           "zaxis": {
            "backgroundcolor": "#E5ECF6",
            "gridcolor": "white",
            "gridwidth": 2,
            "linecolor": "white",
            "showbackground": true,
            "ticks": "",
            "zerolinecolor": "white"
           }
          },
          "shapedefaults": {
           "line": {
            "color": "#2a3f5f"
           }
          },
          "ternary": {
           "aaxis": {
            "gridcolor": "white",
            "linecolor": "white",
            "ticks": ""
           },
           "baxis": {
            "gridcolor": "white",
            "linecolor": "white",
            "ticks": ""
           },
           "bgcolor": "#E5ECF6",
           "caxis": {
            "gridcolor": "white",
            "linecolor": "white",
            "ticks": ""
           }
          },
          "title": {
           "x": 0.05
          },
          "xaxis": {
           "automargin": true,
           "gridcolor": "white",
           "linecolor": "white",
           "ticks": "",
           "title": {
            "standoff": 15
           },
           "zerolinecolor": "white",
           "zerolinewidth": 2
          },
          "yaxis": {
           "automargin": true,
           "gridcolor": "white",
           "linecolor": "white",
           "ticks": "",
           "title": {
            "standoff": 15
           },
           "zerolinecolor": "white",
           "zerolinewidth": 2
          }
         }
        },
        "title": {
         "text": "Comparison of Model Accuracy"
        },
        "width": 700,
        "xaxis": {
         "anchor": "y",
         "categoryarray": [
          "Logistic Regression",
          "Naive Bayes",
          "SCM",
          "KNN",
          "Random Forest",
          "Decision Tree"
         ],
         "categoryorder": "array",
         "domain": [
          0,
          1
         ],
         "title": {
          "text": "Model"
         }
        },
        "yaxis": {
         "anchor": "x",
         "domain": [
          0,
          1
         ],
         "title": {
          "text": "Accuracy Score"
         }
        }
       }
      }
     },
     "metadata": {},
     "output_type": "display_data"
    }
   ],
   "source": [
    "#Comparison of Model Accuracy\n",
    "model_names = ['Logistic Regression', 'Naive Bayes',  'SCM', 'KNN', 'Random Forest', 'Decision Tree',]\n",
    "accuracy_scores = [97, 93, 98, 98, 99, 97]  \n",
    "data = {'Model': model_names, 'Accuracy Score': accuracy_scores}\n",
    "\n",
    "df = pd.DataFrame(data)\n",
    "\n",
    "colors = px.colors.qualitative.Pastel\n",
    "\n",
    "fig = px.bar(df, x='Model', y='Accuracy Score', text='Accuracy Score', \n",
    "             title='Comparison of Model Accuracy', color='Model',\n",
    "             color_discrete_map={model: color for model, color in zip(model_names, colors)})\n",
    "\n",
    "fig.update_traces(texttemplate='%{text:.2f}%', textposition='outside')\n",
    "fig.update_layout(width=700, height=600)\n",
    "\n",
    "fig.show()"
   ]
  },
  {
   "cell_type": "code",
   "execution_count": 566,
   "metadata": {},
   "outputs": [],
   "source": [
    "#function to get user input for prediction\n",
    "def get_user_input():\n",
    "    gender = int(input(\"Gender (Male: 1, Female: 0): \"))\n",
    "    age = int(input(\"Age: \"))\n",
    "    print( \"['Scientist =0','Doctor =1 ', 'Accountant =2', 'Teacher =3','Manager =4', 'Engineer = 5', 'Sales Representative =6', 'Lawyer =8','Salesperson =7','Software Engineer = 9', 'Nurse = 10']\")   \n",
    "    occupation = int(input(\"Occupation (encoded): \"))\n",
    "    bmi_category = int(input(\"BMI Category (Underweight: 1, Normal: 2, Overweight: 3): \"))\n",
    "    heart_rate = int(input(\"Heart Rate (bpm): \"))\n",
    "    daily_steps = int(input(\"Daily Steps: \"))\n",
    "    systolic_bp = int(input(\"Systolic Blood Pressure: \"))\n",
    "    dystolic_bp = int(input(\"Dystolic Blood Pressure: \"))\n",
    "    \n",
    "    return np.array([[gender, age, occupation, bmi_category, heart_rate, daily_steps, systolic_bp, dystolic_bp]])"
   ]
  },
  {
   "cell_type": "code",
   "execution_count": 567,
   "metadata": {},
   "outputs": [
    {
     "name": "stdout",
     "output_type": "stream",
     "text": [
      "['Scientist =0','Doctor =1 ', 'Accountant =2', 'Teacher =3','Manager =4', 'Engineer = 5', 'Sales Representative =6', 'Lawyer =8','Salesperson =7','Software Engineer = 9', 'Nurse = 10']\n"
     ]
    }
   ],
   "source": [
    "#Get the user input for prediction\n",
    "user_input = get_user_input()"
   ]
  },
  {
   "cell_type": "code",
   "execution_count": 568,
   "metadata": {},
   "outputs": [
    {
     "data": {
      "text/html": [
       "<div>\n",
       "<style scoped>\n",
       "    .dataframe tbody tr th:only-of-type {\n",
       "        vertical-align: middle;\n",
       "    }\n",
       "\n",
       "    .dataframe tbody tr th {\n",
       "        vertical-align: top;\n",
       "    }\n",
       "\n",
       "    .dataframe thead th {\n",
       "        text-align: right;\n",
       "    }\n",
       "</style>\n",
       "<table border=\"1\" class=\"dataframe\">\n",
       "  <thead>\n",
       "    <tr style=\"text-align: right;\">\n",
       "      <th></th>\n",
       "      <th>Gender</th>\n",
       "      <th>Age</th>\n",
       "      <th>Occupation</th>\n",
       "      <th>BMI_Category</th>\n",
       "      <th>Heart_Rate</th>\n",
       "      <th>Daily_Steps</th>\n",
       "      <th>Systolic_BP</th>\n",
       "      <th>Diastolic_BP</th>\n",
       "    </tr>\n",
       "  </thead>\n",
       "  <tbody>\n",
       "    <tr>\n",
       "      <th>0</th>\n",
       "      <td>1</td>\n",
       "      <td>-0.987038</td>\n",
       "      <td>5</td>\n",
       "      <td>3</td>\n",
       "      <td>6.40924</td>\n",
       "      <td>-2.501397</td>\n",
       "      <td>2.393672</td>\n",
       "      <td>2.005216</td>\n",
       "    </tr>\n",
       "  </tbody>\n",
       "</table>\n",
       "</div>"
      ],
      "text/plain": [
       "   Gender       Age  Occupation  BMI_Category  Heart_Rate  Daily_Steps  \\\n",
       "0       1 -0.987038           5             3     6.40924    -2.501397   \n",
       "\n",
       "   Systolic_BP  Diastolic_BP  \n",
       "0     2.393672      2.005216  "
      ]
     },
     "execution_count": 568,
     "metadata": {},
     "output_type": "execute_result"
    }
   ],
   "source": [
    "# Standardize the user input using the same scaler that was used to train the model\n",
    "cols_to_standardize = ['Age', 'Heart_Rate', 'Daily_Steps', 'Systolic_BP', 'Diastolic_BP']\n",
    "user_input_df = pd.DataFrame(user_input, columns=['Gender', 'Age', 'Occupation', 'BMI_Category', 'Heart_Rate', 'Daily_Steps', 'Systolic_BP', 'Diastolic_BP'])\n",
    "user_input_df[cols_to_standardize] = scaler.transform(user_input_df[cols_to_standardize])\n",
    "user_input_df.head()"
   ]
  },
  {
   "cell_type": "code",
   "execution_count": 569,
   "metadata": {},
   "outputs": [
    {
     "name": "stdout",
     "output_type": "stream",
     "text": [
      "Predicted Stress Level: 1\n"
     ]
    }
   ],
   "source": [
    "# Reorder the columns of the user input dataframe to match with the training data and then predict the stress level using the random forest model\n",
    "new_order = ['Gender', 'Occupation', 'BMI_Category', 'Age', 'Heart_Rate', 'Daily_Steps', 'Systolic_BP', 'Diastolic_BP']\n",
    "user_input_df = user_input_df.reindex(columns=new_order)\n",
    "\n",
    "# Predict the stress level using the random forest model and display the result\n",
    "predicted_stress_level = randomforest.predict(user_input_df)\n",
    "print(\"Predicted Stress Level:\", predicted_stress_level[0])"
   ]
  },
  {
   "cell_type": "markdown",
   "metadata": {},
   "source": [
    "## Conclusion\n",
    "\n",
    "In this project, I have built a personalized stress detection system using machine learning techniques. I have used a dataset of various factors that affect stress levels, including gender, occupation, BMI category, age, heart rate, daily steps, systolic blood pressure, and diastolic blood pressure. We have preprocessed the data, split it into training and testing sets, and trained a random forest model to predict stress levels. We have also implemented a user interface to allow users to input their personal information and receive a predicted stress level.\n",
    "\n",
    "The performance of the model has been evaluated using various metrics such as accuracy, precision, recall, and F1 score. The results indicate that the model is able to accurately predict stress levels."
   ]
  },
  {
   "cell_type": "markdown",
   "metadata": {},
   "source": []
  }
 ],
 "metadata": {
  "kernelspec": {
   "display_name": "base",
   "language": "python",
   "name": "python3"
  },
  "language_info": {
   "codemirror_mode": {
    "name": "ipython",
    "version": 3
   },
   "file_extension": ".py",
   "mimetype": "text/x-python",
   "name": "python",
   "nbconvert_exporter": "python",
   "pygments_lexer": "ipython3",
   "version": "3.11.7"
  }
 },
 "nbformat": 4,
 "nbformat_minor": 2
}
